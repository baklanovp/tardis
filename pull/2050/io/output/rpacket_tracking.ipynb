{
 "cells": [
  {
   "cell_type": "markdown",
   "id": "f57cd4fe",
   "metadata": {},
   "source": [
    "# Tracking the Properties of Real Packets"
   ]
  },
  {
   "cell_type": "markdown",
   "id": "c103617c",
   "metadata": {},
   "source": [
    "**TARDIS** has the functionality to track the properties of the *RPackets* that are generated when running the Simulation. The `rpacket_tracker` can track all the interactions a packet undergoes & thus keeps a track of the various properties, a packet may have.<br>Currently, the `rpacket_tracker` tracks the properties of all the rpackets in the *Last Iteration of the Simulation*. It generates a `List` that contains the individual instances of `RPacketCollection`{`Numba JITClass`}, for storing all the interaction properties as listed below."
   ]
  },
  {
   "cell_type": "markdown",
   "id": "ce6214b9",
   "metadata": {},
   "source": [
    "<html>\n",
    "    <body>\n",
    "        The properties that are tracked are as follows :\n",
    "        <ol>\n",
    "            <li><b>index</b> - Index of the Packet</li>\n",
    "            <li><b>seed</b> - Seed of the Packet</li>\n",
    "            <li><b>status</b> - Current Status for the Packet Interaction</li>\n",
    "            <li><b>r</b> - Radius of the Current Shell</li> \n",
    "            <li><b>nu</b> - Packet's Frequency</li> \n",
    "            <li><b>mu</b> - Propagation Direction of the Packet (cosine of the angle the packet’s path makes with the radial direction)</li>\n",
    "            <li><b>energy</b> - Energy of the Packet</li>\n",
    "            <li><b>shell_id</b> - Current Shell Id where the Packet is present</li>\n",
    "        </ol>\n",
    "    </body>\n",
    "</html>"
   ]
  },
  {
   "cell_type": "markdown",
   "id": "4b0de6ca",
   "metadata": {},
   "source": [
    "<div class=\"alert alert-warning\">\n",
    "\n",
    "Warning\n",
    "\n",
    "Current implementation stores all the data for the interaction of the packets in a `list`, so it needs to accessed with a `list index` for each property for a particular `rpacket`. Examples for the same are shown as follows. \n",
    "</div>"
   ]
  },
  {
   "cell_type": "markdown",
   "id": "1686d9f1",
   "metadata": {},
   "source": [
    "## How to Setup the Tracking for the RPackets?"
   ]
  },
  {
   "cell_type": "markdown",
   "id": "29e14475",
   "metadata": {},
   "source": [
    "**TARDIS**' `rpacket_tracker` is configured via the `YAML` file. This functionality of tracking the packets is turned **off**, by default. This is due to that fact that using this property, may slow down the execution time for the Simulation. An example configuration can be seen below for setting up the *tracking*:\n",
    "\n",
    "```yaml\n",
    "... \n",
    "montecarlo:\n",
    "...\n",
    "tracking:\n",
    "    track_rpacket: true\n",
    "```"
   ]
  },
  {
   "cell_type": "markdown",
   "id": "13b6420b",
   "metadata": {},
   "source": [
    "The `montecarlo` section of the **YAML** file now has a `tracking` sub section which holds the configuration properties for the `track_rpacket` & the `initial_array_length` (discussed later in the tutorial)."
   ]
  },
  {
   "cell_type": "markdown",
   "id": "2634c571",
   "metadata": {},
   "source": [
    "Let us see, the new `rpacket_tracker` in action."
   ]
  },
  {
   "cell_type": "code",
   "execution_count": 1,
   "id": "a0e975b6",
   "metadata": {
    "execution": {
     "iopub.execute_input": "2022-06-23T14:10:49.618944Z",
     "iopub.status.busy": "2022-06-23T14:10:49.618456Z",
     "iopub.status.idle": "2022-06-23T14:10:51.826223Z",
     "shell.execute_reply": "2022-06-23T14:10:51.825511Z"
    }
   },
   "outputs": [
    {
     "name": "stderr",
     "output_type": "stream",
     "text": [
      "/usr/share/miniconda3/envs/tardis/lib/python3.8/site-packages/setuptools_scm/git.py:135: UserWarning: \"/home/runner/work/tardis/tardis\" is shallow and may cause errors\n",
      "  warnings.warn(f'\"{wd.path}\" is shallow and may cause errors')\n"
     ]
    },
    {
     "data": {
      "application/vnd.jupyter.widget-view+json": {
       "model_id": "eb738f5de16943b4a10ff2b226573561",
       "version_major": 2,
       "version_minor": 0
      },
      "text/plain": [
       "Iterations:          0/? [00:00<?, ?it/s]"
      ]
     },
     "metadata": {},
     "output_type": "display_data"
    },
    {
     "data": {
      "application/vnd.jupyter.widget-view+json": {
       "model_id": "705525e44e8548058458da8060e038b2",
       "version_major": 2,
       "version_minor": 0
      },
      "text/plain": [
       "Packets:             0/? [00:00<?, ?it/s]"
      ]
     },
     "metadata": {},
     "output_type": "display_data"
    }
   ],
   "source": [
    "from tardis.io.config_reader import Configuration"
   ]
  },
  {
   "cell_type": "code",
   "execution_count": 2,
   "id": "adbf5f75",
   "metadata": {
    "execution": {
     "iopub.execute_input": "2022-06-23T14:10:51.829873Z",
     "iopub.status.busy": "2022-06-23T14:10:51.829500Z",
     "iopub.status.idle": "2022-06-23T14:10:51.963295Z",
     "shell.execute_reply": "2022-06-23T14:10:51.962635Z"
    }
   },
   "outputs": [],
   "source": [
    "# Reading the Configuration stored in `tardis_config_packet_tracking.yml` into config\n",
    "\n",
    "config = Configuration.from_yaml(\"tardis_example.yml\")"
   ]
  },
  {
   "cell_type": "code",
   "execution_count": 3,
   "id": "975766e9",
   "metadata": {
    "execution": {
     "iopub.execute_input": "2022-06-23T14:10:51.966690Z",
     "iopub.status.busy": "2022-06-23T14:10:51.966438Z",
     "iopub.status.idle": "2022-06-23T14:10:51.974298Z",
     "shell.execute_reply": "2022-06-23T14:10:51.973655Z"
    }
   },
   "outputs": [
    {
     "data": {
      "text/plain": [
       "{'track_rpacket': False, 'initial_array_length': 10}"
      ]
     },
     "execution_count": 3,
     "metadata": {},
     "output_type": "execute_result"
    }
   ],
   "source": [
    "# Checking the `tracking` section via the Schema\n",
    "\n",
    "config[\"montecarlo\"][\"tracking\"]"
   ]
  },
  {
   "cell_type": "code",
   "execution_count": 4,
   "id": "b00bc2ca",
   "metadata": {
    "execution": {
     "iopub.execute_input": "2022-06-23T14:10:51.977863Z",
     "iopub.status.busy": "2022-06-23T14:10:51.977308Z",
     "iopub.status.idle": "2022-06-23T14:10:51.980554Z",
     "shell.execute_reply": "2022-06-23T14:10:51.979940Z"
    }
   },
   "outputs": [],
   "source": [
    "# Setting `r_packet_tracking` to True to turn on the Tracking \n",
    "\n",
    "config[\"montecarlo\"][\"tracking\"][\"track_rpacket\"] = True"
   ]
  },
  {
   "cell_type": "code",
   "execution_count": 5,
   "id": "3ece2c10",
   "metadata": {
    "execution": {
     "iopub.execute_input": "2022-06-23T14:10:51.983533Z",
     "iopub.status.busy": "2022-06-23T14:10:51.982972Z",
     "iopub.status.idle": "2022-06-23T14:10:51.987414Z",
     "shell.execute_reply": "2022-06-23T14:10:51.986791Z"
    }
   },
   "outputs": [
    {
     "data": {
      "text/plain": [
       "{'track_rpacket': True, 'initial_array_length': 10}"
      ]
     },
     "execution_count": 5,
     "metadata": {},
     "output_type": "execute_result"
    }
   ],
   "source": [
    "config[\"montecarlo\"][\"tracking\"]"
   ]
  },
  {
   "cell_type": "code",
   "execution_count": 6,
   "id": "b25271d6",
   "metadata": {
    "execution": {
     "iopub.execute_input": "2022-06-23T14:10:51.990814Z",
     "iopub.status.busy": "2022-06-23T14:10:51.990423Z",
     "iopub.status.idle": "2022-06-23T14:10:51.993574Z",
     "shell.execute_reply": "2022-06-23T14:10:51.992938Z"
    }
   },
   "outputs": [],
   "source": [
    "from tardis import run_tardis"
   ]
  },
  {
   "cell_type": "code",
   "execution_count": 7,
   "id": "f9e51fd3",
   "metadata": {
    "execution": {
     "iopub.execute_input": "2022-06-23T14:10:51.996180Z",
     "iopub.status.busy": "2022-06-23T14:10:51.995960Z",
     "iopub.status.idle": "2022-06-23T14:11:43.497039Z",
     "shell.execute_reply": "2022-06-23T14:11:43.496393Z"
    },
    "scrolled": false
   },
   "outputs": [
    {
     "name": "stdout",
     "output_type": "stream",
     "text": [
      "[\u001b[1mtardis.plasma.standard_plasmas\u001b[0m][\u001b[1;37mINFO\u001b[0m   ]  \n",
      "\t\n",
      "\tReading Atomic Data from kurucz_cd23_chianti_H_He.h5 (\u001b[1mstandard_plasmas.py\u001b[0m:93)\n"
     ]
    },
    {
     "name": "stdout",
     "output_type": "stream",
     "text": [
      "[\u001b[1mtardis.io.atom_data.util\u001b[0m][\u001b[1;37mINFO\u001b[0m   ]  \n",
      "\t\n",
      "\tAtom Data kurucz_cd23_chianti_H_He.h5 not found in local path.\n",
      "\tExists in TARDIS Data repo /home/runner/Downloads/tardis-data/kurucz_cd23_chianti_H_He.h5 (\u001b[1mutil.py\u001b[0m:33)\n"
     ]
    },
    {
     "name": "stdout",
     "output_type": "stream",
     "text": [
      "[\u001b[1mtardis.io.atom_data.base\u001b[0m][\u001b[1;37mINFO\u001b[0m   ]  \n",
      "\tReading Atom Data with: UUID = 6f7b09e887a311e7a06b246e96350010 MD5  = 864f1753714343c41f99cb065710cace  (\u001b[1mbase.py\u001b[0m:249)\n"
     ]
    },
    {
     "name": "stdout",
     "output_type": "stream",
     "text": [
      "[\u001b[1mtardis.io.atom_data.base\u001b[0m][\u001b[1;37mINFO\u001b[0m   ]  \n",
      "\tNon provided Atomic Data: synpp_refs, photoionization_data, yg_data, two_photon_data (\u001b[1mbase.py\u001b[0m:253)\n"
     ]
    },
    {
     "name": "stdout",
     "output_type": "stream",
     "text": [
      "[\u001b[1mpy.warnings         \u001b[0m][\u001b[1;33mWARNING\u001b[0m]  \n",
      "\t/home/runner/work/tardis/tardis/tardis/plasma/properties/radiative_properties.py:93: RuntimeWarning: invalid value encountered in true_divide\n",
      "  (g_lower * n_upper) / (g_upper * n_lower)\n",
      " (\u001b[1mwarnings.py\u001b[0m:109)\n"
     ]
    },
    {
     "name": "stdout",
     "output_type": "stream",
     "text": [
      "[\u001b[1mpy.warnings         \u001b[0m][\u001b[1;33mWARNING\u001b[0m]  \n",
      "\t/home/runner/work/tardis/tardis/tardis/plasma/properties/radiative_properties.py:93: RuntimeWarning: invalid value encountered in true_divide\n",
      "  (g_lower * n_upper) / (g_upper * n_lower)\n",
      " (\u001b[1mwarnings.py\u001b[0m:109)\n"
     ]
    },
    {
     "name": "stdout",
     "output_type": "stream",
     "text": [
      "[\u001b[1mtardis.simulation.base\u001b[0m][\u001b[1;37mINFO\u001b[0m   ]  \n",
      "\t\n",
      "\tStarting iteration 1 of 20 (\u001b[1mbase.py\u001b[0m:378)\n"
     ]
    },
    {
     "name": "stdout",
     "output_type": "stream",
     "text": [
      "[\u001b[1mtardis.simulation.base\u001b[0m][\u001b[1;37mINFO\u001b[0m   ]  \n",
      "\t\n",
      "\tLuminosity emitted   = 7.942e+42 erg / s\n",
      "\tLuminosity absorbed  = 2.659e+42 erg / s\n",
      "\tLuminosity requested = 1.059e+43 erg / s\n",
      " (\u001b[1mbase.py\u001b[0m:547)\n"
     ]
    },
    {
     "name": "stdout",
     "output_type": "stream",
     "text": [
      "[\u001b[1mtardis.simulation.base\u001b[0m][\u001b[1;37mINFO\u001b[0m   ]  \n",
      "\t\n",
      "\tPlasma stratification: (\u001b[1mbase.py\u001b[0m:515)\n"
     ]
    },
    {
     "data": {
      "text/html": [
       "<style  type=\"text/css\" >\n",
       "</style><table id=\"T_5bac573e_f2fe_11ec_a382_6045bd7774bc\" ><thead>    <tr>        <th class=\"index_name level0\" >Shell No.</th>        <th class=\"col_heading level0 col0\" >t_rad</th>        <th class=\"col_heading level0 col1\" >next_t_rad</th>        <th class=\"col_heading level0 col2\" >w</th>        <th class=\"col_heading level0 col3\" >next_w</th>    </tr></thead><tbody>\n",
       "                <tr>\n",
       "                        <th id=\"T_5bac573e_f2fe_11ec_a382_6045bd7774bclevel0_row0\" class=\"row_heading level0 row0\" >0</th>\n",
       "                        <td id=\"T_5bac573e_f2fe_11ec_a382_6045bd7774bcrow0_col0\" class=\"data row0 col0\" >9.93e+03</td>\n",
       "                        <td id=\"T_5bac573e_f2fe_11ec_a382_6045bd7774bcrow0_col1\" class=\"data row0 col1\" >1.01e+04</td>\n",
       "                        <td id=\"T_5bac573e_f2fe_11ec_a382_6045bd7774bcrow0_col2\" class=\"data row0 col2\" >0.4</td>\n",
       "                        <td id=\"T_5bac573e_f2fe_11ec_a382_6045bd7774bcrow0_col3\" class=\"data row0 col3\" >0.507</td>\n",
       "            </tr>\n",
       "            <tr>\n",
       "                        <th id=\"T_5bac573e_f2fe_11ec_a382_6045bd7774bclevel0_row1\" class=\"row_heading level0 row1\" >5</th>\n",
       "                        <td id=\"T_5bac573e_f2fe_11ec_a382_6045bd7774bcrow1_col0\" class=\"data row1 col0\" >9.85e+03</td>\n",
       "                        <td id=\"T_5bac573e_f2fe_11ec_a382_6045bd7774bcrow1_col1\" class=\"data row1 col1\" >1.02e+04</td>\n",
       "                        <td id=\"T_5bac573e_f2fe_11ec_a382_6045bd7774bcrow1_col2\" class=\"data row1 col2\" >0.211</td>\n",
       "                        <td id=\"T_5bac573e_f2fe_11ec_a382_6045bd7774bcrow1_col3\" class=\"data row1 col3\" >0.197</td>\n",
       "            </tr>\n",
       "            <tr>\n",
       "                        <th id=\"T_5bac573e_f2fe_11ec_a382_6045bd7774bclevel0_row2\" class=\"row_heading level0 row2\" >10</th>\n",
       "                        <td id=\"T_5bac573e_f2fe_11ec_a382_6045bd7774bcrow2_col0\" class=\"data row2 col0\" >9.78e+03</td>\n",
       "                        <td id=\"T_5bac573e_f2fe_11ec_a382_6045bd7774bcrow2_col1\" class=\"data row2 col1\" >1.01e+04</td>\n",
       "                        <td id=\"T_5bac573e_f2fe_11ec_a382_6045bd7774bcrow2_col2\" class=\"data row2 col2\" >0.143</td>\n",
       "                        <td id=\"T_5bac573e_f2fe_11ec_a382_6045bd7774bcrow2_col3\" class=\"data row2 col3\" >0.117</td>\n",
       "            </tr>\n",
       "            <tr>\n",
       "                        <th id=\"T_5bac573e_f2fe_11ec_a382_6045bd7774bclevel0_row3\" class=\"row_heading level0 row3\" >15</th>\n",
       "                        <td id=\"T_5bac573e_f2fe_11ec_a382_6045bd7774bcrow3_col0\" class=\"data row3 col0\" >9.71e+03</td>\n",
       "                        <td id=\"T_5bac573e_f2fe_11ec_a382_6045bd7774bcrow3_col1\" class=\"data row3 col1\" >9.87e+03</td>\n",
       "                        <td id=\"T_5bac573e_f2fe_11ec_a382_6045bd7774bcrow3_col2\" class=\"data row3 col2\" >0.105</td>\n",
       "                        <td id=\"T_5bac573e_f2fe_11ec_a382_6045bd7774bcrow3_col3\" class=\"data row3 col3\" >0.0869</td>\n",
       "            </tr>\n",
       "    </tbody></table>"
      ],
      "text/plain": [
       "<pandas.io.formats.style.Styler at 0x7f3000479fa0>"
      ]
     },
     "metadata": {},
     "output_type": "display_data"
    },
    {
     "name": "stdout",
     "output_type": "stream",
     "text": [
      "[\u001b[1mtardis.simulation.base\u001b[0m][\u001b[1;37mINFO\u001b[0m   ]  \n",
      "\t\n",
      "\tCurrent t_inner = 9933.952 K\n",
      "\tExpected t_inner for next iteration = 10703.212 K\n",
      " (\u001b[1mbase.py\u001b[0m:542)\n"
     ]
    },
    {
     "name": "stdout",
     "output_type": "stream",
     "text": [
      "[\u001b[1mpy.warnings         \u001b[0m][\u001b[1;33mWARNING\u001b[0m]  \n",
      "\t/home/runner/work/tardis/tardis/tardis/plasma/properties/radiative_properties.py:93: RuntimeWarning: invalid value encountered in true_divide\n",
      "  (g_lower * n_upper) / (g_upper * n_lower)\n",
      " (\u001b[1mwarnings.py\u001b[0m:109)\n"
     ]
    },
    {
     "name": "stdout",
     "output_type": "stream",
     "text": [
      "[\u001b[1mtardis.simulation.base\u001b[0m][\u001b[1;37mINFO\u001b[0m   ]  \n",
      "\t\n",
      "\tStarting iteration 2 of 20 (\u001b[1mbase.py\u001b[0m:378)\n"
     ]
    },
    {
     "name": "stdout",
     "output_type": "stream",
     "text": [
      "[\u001b[1mtardis.simulation.base\u001b[0m][\u001b[1;37mINFO\u001b[0m   ]  \n",
      "\t\n",
      "\tLuminosity emitted   = 1.071e+43 erg / s\n",
      "\tLuminosity absorbed  = 3.576e+42 erg / s\n",
      "\tLuminosity requested = 1.059e+43 erg / s\n",
      " (\u001b[1mbase.py\u001b[0m:547)\n"
     ]
    },
    {
     "name": "stdout",
     "output_type": "stream",
     "text": [
      "[\u001b[1mtardis.simulation.base\u001b[0m][\u001b[1;37mINFO\u001b[0m   ]  \n",
      "\t\n",
      "\tPlasma stratification: (\u001b[1mbase.py\u001b[0m:515)\n"
     ]
    },
    {
     "data": {
      "text/html": [
       "<style  type=\"text/css\" >\n",
       "</style><table id=\"T_5c281ef0_f2fe_11ec_a382_6045bd7774bc\" ><thead>    <tr>        <th class=\"index_name level0\" >Shell No.</th>        <th class=\"col_heading level0 col0\" >t_rad</th>        <th class=\"col_heading level0 col1\" >next_t_rad</th>        <th class=\"col_heading level0 col2\" >w</th>        <th class=\"col_heading level0 col3\" >next_w</th>    </tr></thead><tbody>\n",
       "                <tr>\n",
       "                        <th id=\"T_5c281ef0_f2fe_11ec_a382_6045bd7774bclevel0_row0\" class=\"row_heading level0 row0\" >0</th>\n",
       "                        <td id=\"T_5c281ef0_f2fe_11ec_a382_6045bd7774bcrow0_col0\" class=\"data row0 col0\" >1.01e+04</td>\n",
       "                        <td id=\"T_5c281ef0_f2fe_11ec_a382_6045bd7774bcrow0_col1\" class=\"data row0 col1\" >1.08e+04</td>\n",
       "                        <td id=\"T_5c281ef0_f2fe_11ec_a382_6045bd7774bcrow0_col2\" class=\"data row0 col2\" >0.507</td>\n",
       "                        <td id=\"T_5c281ef0_f2fe_11ec_a382_6045bd7774bcrow0_col3\" class=\"data row0 col3\" >0.525</td>\n",
       "            </tr>\n",
       "            <tr>\n",
       "                        <th id=\"T_5c281ef0_f2fe_11ec_a382_6045bd7774bclevel0_row1\" class=\"row_heading level0 row1\" >5</th>\n",
       "                        <td id=\"T_5c281ef0_f2fe_11ec_a382_6045bd7774bcrow1_col0\" class=\"data row1 col0\" >1.02e+04</td>\n",
       "                        <td id=\"T_5c281ef0_f2fe_11ec_a382_6045bd7774bcrow1_col1\" class=\"data row1 col1\" >1.1e+04</td>\n",
       "                        <td id=\"T_5c281ef0_f2fe_11ec_a382_6045bd7774bcrow1_col2\" class=\"data row1 col2\" >0.197</td>\n",
       "                        <td id=\"T_5c281ef0_f2fe_11ec_a382_6045bd7774bcrow1_col3\" class=\"data row1 col3\" >0.203</td>\n",
       "            </tr>\n",
       "            <tr>\n",
       "                        <th id=\"T_5c281ef0_f2fe_11ec_a382_6045bd7774bclevel0_row2\" class=\"row_heading level0 row2\" >10</th>\n",
       "                        <td id=\"T_5c281ef0_f2fe_11ec_a382_6045bd7774bcrow2_col0\" class=\"data row2 col0\" >1.01e+04</td>\n",
       "                        <td id=\"T_5c281ef0_f2fe_11ec_a382_6045bd7774bcrow2_col1\" class=\"data row2 col1\" >1.08e+04</td>\n",
       "                        <td id=\"T_5c281ef0_f2fe_11ec_a382_6045bd7774bcrow2_col2\" class=\"data row2 col2\" >0.117</td>\n",
       "                        <td id=\"T_5c281ef0_f2fe_11ec_a382_6045bd7774bcrow2_col3\" class=\"data row2 col3\" >0.125</td>\n",
       "            </tr>\n",
       "            <tr>\n",
       "                        <th id=\"T_5c281ef0_f2fe_11ec_a382_6045bd7774bclevel0_row3\" class=\"row_heading level0 row3\" >15</th>\n",
       "                        <td id=\"T_5c281ef0_f2fe_11ec_a382_6045bd7774bcrow3_col0\" class=\"data row3 col0\" >9.87e+03</td>\n",
       "                        <td id=\"T_5c281ef0_f2fe_11ec_a382_6045bd7774bcrow3_col1\" class=\"data row3 col1\" >1.05e+04</td>\n",
       "                        <td id=\"T_5c281ef0_f2fe_11ec_a382_6045bd7774bcrow3_col2\" class=\"data row3 col2\" >0.0869</td>\n",
       "                        <td id=\"T_5c281ef0_f2fe_11ec_a382_6045bd7774bcrow3_col3\" class=\"data row3 col3\" >0.0933</td>\n",
       "            </tr>\n",
       "    </tbody></table>"
      ],
      "text/plain": [
       "<pandas.io.formats.style.Styler at 0x7f300123a820>"
      ]
     },
     "metadata": {},
     "output_type": "display_data"
    },
    {
     "name": "stdout",
     "output_type": "stream",
     "text": [
      "[\u001b[1mtardis.simulation.base\u001b[0m][\u001b[1;37mINFO\u001b[0m   ]  \n",
      "\t\n",
      "\tCurrent t_inner = 10703.212 K\n",
      "\tExpected t_inner for next iteration = 10673.712 K\n",
      " (\u001b[1mbase.py\u001b[0m:542)\n"
     ]
    },
    {
     "name": "stdout",
     "output_type": "stream",
     "text": [
      "[\u001b[1mtardis.simulation.base\u001b[0m][\u001b[1;37mINFO\u001b[0m   ]  \n",
      "\t\n",
      "\tStarting iteration 3 of 20 (\u001b[1mbase.py\u001b[0m:378)\n"
     ]
    },
    {
     "name": "stdout",
     "output_type": "stream",
     "text": [
      "[\u001b[1mtardis.simulation.base\u001b[0m][\u001b[1;37mINFO\u001b[0m   ]  \n",
      "\t\n",
      "\tLuminosity emitted   = 1.074e+43 erg / s\n",
      "\tLuminosity absorbed  = 3.391e+42 erg / s\n",
      "\tLuminosity requested = 1.059e+43 erg / s\n",
      " (\u001b[1mbase.py\u001b[0m:547)\n"
     ]
    },
    {
     "name": "stdout",
     "output_type": "stream",
     "text": [
      "[\u001b[1mtardis.simulation.base\u001b[0m][\u001b[1;37mINFO\u001b[0m   ]  \n",
      "\t\n",
      "\tPlasma stratification: (\u001b[1mbase.py\u001b[0m:515)\n"
     ]
    },
    {
     "data": {
      "text/html": [
       "<style  type=\"text/css\" >\n",
       "</style><table id=\"T_5ca0797c_f2fe_11ec_a382_6045bd7774bc\" ><thead>    <tr>        <th class=\"index_name level0\" >Shell No.</th>        <th class=\"col_heading level0 col0\" >t_rad</th>        <th class=\"col_heading level0 col1\" >next_t_rad</th>        <th class=\"col_heading level0 col2\" >w</th>        <th class=\"col_heading level0 col3\" >next_w</th>    </tr></thead><tbody>\n",
       "                <tr>\n",
       "                        <th id=\"T_5ca0797c_f2fe_11ec_a382_6045bd7774bclevel0_row0\" class=\"row_heading level0 row0\" >0</th>\n",
       "                        <td id=\"T_5ca0797c_f2fe_11ec_a382_6045bd7774bcrow0_col0\" class=\"data row0 col0\" >1.08e+04</td>\n",
       "                        <td id=\"T_5ca0797c_f2fe_11ec_a382_6045bd7774bcrow0_col1\" class=\"data row0 col1\" >1.1e+04</td>\n",
       "                        <td id=\"T_5ca0797c_f2fe_11ec_a382_6045bd7774bcrow0_col2\" class=\"data row0 col2\" >0.525</td>\n",
       "                        <td id=\"T_5ca0797c_f2fe_11ec_a382_6045bd7774bcrow0_col3\" class=\"data row0 col3\" >0.483</td>\n",
       "            </tr>\n",
       "            <tr>\n",
       "                        <th id=\"T_5ca0797c_f2fe_11ec_a382_6045bd7774bclevel0_row1\" class=\"row_heading level0 row1\" >5</th>\n",
       "                        <td id=\"T_5ca0797c_f2fe_11ec_a382_6045bd7774bcrow1_col0\" class=\"data row1 col0\" >1.1e+04</td>\n",
       "                        <td id=\"T_5ca0797c_f2fe_11ec_a382_6045bd7774bcrow1_col1\" class=\"data row1 col1\" >1.12e+04</td>\n",
       "                        <td id=\"T_5ca0797c_f2fe_11ec_a382_6045bd7774bcrow1_col2\" class=\"data row1 col2\" >0.203</td>\n",
       "                        <td id=\"T_5ca0797c_f2fe_11ec_a382_6045bd7774bcrow1_col3\" class=\"data row1 col3\" >0.189</td>\n",
       "            </tr>\n",
       "            <tr>\n",
       "                        <th id=\"T_5ca0797c_f2fe_11ec_a382_6045bd7774bclevel0_row2\" class=\"row_heading level0 row2\" >10</th>\n",
       "                        <td id=\"T_5ca0797c_f2fe_11ec_a382_6045bd7774bcrow2_col0\" class=\"data row2 col0\" >1.08e+04</td>\n",
       "                        <td id=\"T_5ca0797c_f2fe_11ec_a382_6045bd7774bcrow2_col1\" class=\"data row2 col1\" >1.1e+04</td>\n",
       "                        <td id=\"T_5ca0797c_f2fe_11ec_a382_6045bd7774bcrow2_col2\" class=\"data row2 col2\" >0.125</td>\n",
       "                        <td id=\"T_5ca0797c_f2fe_11ec_a382_6045bd7774bcrow2_col3\" class=\"data row2 col3\" >0.118</td>\n",
       "            </tr>\n",
       "            <tr>\n",
       "                        <th id=\"T_5ca0797c_f2fe_11ec_a382_6045bd7774bclevel0_row3\" class=\"row_heading level0 row3\" >15</th>\n",
       "                        <td id=\"T_5ca0797c_f2fe_11ec_a382_6045bd7774bcrow3_col0\" class=\"data row3 col0\" >1.05e+04</td>\n",
       "                        <td id=\"T_5ca0797c_f2fe_11ec_a382_6045bd7774bcrow3_col1\" class=\"data row3 col1\" >1.06e+04</td>\n",
       "                        <td id=\"T_5ca0797c_f2fe_11ec_a382_6045bd7774bcrow3_col2\" class=\"data row3 col2\" >0.0933</td>\n",
       "                        <td id=\"T_5ca0797c_f2fe_11ec_a382_6045bd7774bcrow3_col3\" class=\"data row3 col3\" >0.0895</td>\n",
       "            </tr>\n",
       "    </tbody></table>"
      ],
      "text/plain": [
       "<pandas.io.formats.style.Styler at 0x7f2ffe9bdd60>"
      ]
     },
     "metadata": {},
     "output_type": "display_data"
    },
    {
     "name": "stdout",
     "output_type": "stream",
     "text": [
      "[\u001b[1mtardis.simulation.base\u001b[0m][\u001b[1;37mINFO\u001b[0m   ]  \n",
      "\t\n",
      "\tCurrent t_inner = 10673.712 K\n",
      "\tExpected t_inner for next iteration = 10635.953 K\n",
      " (\u001b[1mbase.py\u001b[0m:542)\n"
     ]
    },
    {
     "name": "stdout",
     "output_type": "stream",
     "text": [
      "[\u001b[1mtardis.simulation.base\u001b[0m][\u001b[1;37mINFO\u001b[0m   ]  \n",
      "\t\n",
      "\tStarting iteration 4 of 20 (\u001b[1mbase.py\u001b[0m:378)\n"
     ]
    },
    {
     "name": "stdout",
     "output_type": "stream",
     "text": [
      "[\u001b[1mtardis.simulation.base\u001b[0m][\u001b[1;37mINFO\u001b[0m   ]  \n",
      "\t\n",
      "\tLuminosity emitted   = 1.058e+43 erg / s\n",
      "\tLuminosity absorbed  = 3.352e+42 erg / s\n",
      "\tLuminosity requested = 1.059e+43 erg / s\n",
      " (\u001b[1mbase.py\u001b[0m:547)\n"
     ]
    },
    {
     "name": "stdout",
     "output_type": "stream",
     "text": [
      "[\u001b[1mtardis.simulation.base\u001b[0m][\u001b[1;37mINFO\u001b[0m   ]  \n",
      "\t\n",
      "\tPlasma stratification: (\u001b[1mbase.py\u001b[0m:515)\n"
     ]
    },
    {
     "data": {
      "text/html": [
       "<style  type=\"text/css\" >\n",
       "</style><table id=\"T_5d1a6a3e_f2fe_11ec_a382_6045bd7774bc\" ><thead>    <tr>        <th class=\"index_name level0\" >Shell No.</th>        <th class=\"col_heading level0 col0\" >t_rad</th>        <th class=\"col_heading level0 col1\" >next_t_rad</th>        <th class=\"col_heading level0 col2\" >w</th>        <th class=\"col_heading level0 col3\" >next_w</th>    </tr></thead><tbody>\n",
       "                <tr>\n",
       "                        <th id=\"T_5d1a6a3e_f2fe_11ec_a382_6045bd7774bclevel0_row0\" class=\"row_heading level0 row0\" >0</th>\n",
       "                        <td id=\"T_5d1a6a3e_f2fe_11ec_a382_6045bd7774bcrow0_col0\" class=\"data row0 col0\" >1.1e+04</td>\n",
       "                        <td id=\"T_5d1a6a3e_f2fe_11ec_a382_6045bd7774bcrow0_col1\" class=\"data row0 col1\" >1.1e+04</td>\n",
       "                        <td id=\"T_5d1a6a3e_f2fe_11ec_a382_6045bd7774bcrow0_col2\" class=\"data row0 col2\" >0.483</td>\n",
       "                        <td id=\"T_5d1a6a3e_f2fe_11ec_a382_6045bd7774bcrow0_col3\" class=\"data row0 col3\" >0.469</td>\n",
       "            </tr>\n",
       "            <tr>\n",
       "                        <th id=\"T_5d1a6a3e_f2fe_11ec_a382_6045bd7774bclevel0_row1\" class=\"row_heading level0 row1\" >5</th>\n",
       "                        <td id=\"T_5d1a6a3e_f2fe_11ec_a382_6045bd7774bcrow1_col0\" class=\"data row1 col0\" >1.12e+04</td>\n",
       "                        <td id=\"T_5d1a6a3e_f2fe_11ec_a382_6045bd7774bcrow1_col1\" class=\"data row1 col1\" >1.12e+04</td>\n",
       "                        <td id=\"T_5d1a6a3e_f2fe_11ec_a382_6045bd7774bcrow1_col2\" class=\"data row1 col2\" >0.189</td>\n",
       "                        <td id=\"T_5d1a6a3e_f2fe_11ec_a382_6045bd7774bcrow1_col3\" class=\"data row1 col3\" >0.182</td>\n",
       "            </tr>\n",
       "            <tr>\n",
       "                        <th id=\"T_5d1a6a3e_f2fe_11ec_a382_6045bd7774bclevel0_row2\" class=\"row_heading level0 row2\" >10</th>\n",
       "                        <td id=\"T_5d1a6a3e_f2fe_11ec_a382_6045bd7774bcrow2_col0\" class=\"data row2 col0\" >1.1e+04</td>\n",
       "                        <td id=\"T_5d1a6a3e_f2fe_11ec_a382_6045bd7774bcrow2_col1\" class=\"data row2 col1\" >1.1e+04</td>\n",
       "                        <td id=\"T_5d1a6a3e_f2fe_11ec_a382_6045bd7774bcrow2_col2\" class=\"data row2 col2\" >0.118</td>\n",
       "                        <td id=\"T_5d1a6a3e_f2fe_11ec_a382_6045bd7774bcrow2_col3\" class=\"data row2 col3\" >0.113</td>\n",
       "            </tr>\n",
       "            <tr>\n",
       "                        <th id=\"T_5d1a6a3e_f2fe_11ec_a382_6045bd7774bclevel0_row3\" class=\"row_heading level0 row3\" >15</th>\n",
       "                        <td id=\"T_5d1a6a3e_f2fe_11ec_a382_6045bd7774bcrow3_col0\" class=\"data row3 col0\" >1.06e+04</td>\n",
       "                        <td id=\"T_5d1a6a3e_f2fe_11ec_a382_6045bd7774bcrow3_col1\" class=\"data row3 col1\" >1.07e+04</td>\n",
       "                        <td id=\"T_5d1a6a3e_f2fe_11ec_a382_6045bd7774bcrow3_col2\" class=\"data row3 col2\" >0.0895</td>\n",
       "                        <td id=\"T_5d1a6a3e_f2fe_11ec_a382_6045bd7774bcrow3_col3\" class=\"data row3 col3\" >0.0861</td>\n",
       "            </tr>\n",
       "    </tbody></table>"
      ],
      "text/plain": [
       "<pandas.io.formats.style.Styler at 0x7f2ffe9cc4c0>"
      ]
     },
     "metadata": {},
     "output_type": "display_data"
    },
    {
     "name": "stdout",
     "output_type": "stream",
     "text": [
      "[\u001b[1mtardis.simulation.base\u001b[0m][\u001b[1;37mINFO\u001b[0m   ]  \n",
      "\t\n",
      "\tCurrent t_inner = 10635.953 K\n",
      "\tExpected t_inner for next iteration = 10638.407 K\n",
      " (\u001b[1mbase.py\u001b[0m:542)\n"
     ]
    },
    {
     "name": "stdout",
     "output_type": "stream",
     "text": [
      "[\u001b[1mtardis.simulation.base\u001b[0m][\u001b[1;37mINFO\u001b[0m   ]  \n",
      "\t\n",
      "\tStarting iteration 5 of 20 (\u001b[1mbase.py\u001b[0m:378)\n"
     ]
    },
    {
     "name": "stdout",
     "output_type": "stream",
     "text": [
      "[\u001b[1mtardis.simulation.base\u001b[0m][\u001b[1;37mINFO\u001b[0m   ]  \n",
      "\t\n",
      "\tLuminosity emitted   = 1.055e+43 erg / s\n",
      "\tLuminosity absorbed  = 3.399e+42 erg / s\n",
      "\tLuminosity requested = 1.059e+43 erg / s\n",
      " (\u001b[1mbase.py\u001b[0m:547)\n"
     ]
    },
    {
     "name": "stdout",
     "output_type": "stream",
     "text": [
      "[\u001b[1mtardis.simulation.base\u001b[0m][\u001b[1;37mINFO\u001b[0m   ]  \n",
      "\tIteration converged 1/4 consecutive times. (\u001b[1mbase.py\u001b[0m:259)\n"
     ]
    },
    {
     "name": "stdout",
     "output_type": "stream",
     "text": [
      "[\u001b[1mtardis.simulation.base\u001b[0m][\u001b[1;37mINFO\u001b[0m   ]  \n",
      "\t\n",
      "\tPlasma stratification: (\u001b[1mbase.py\u001b[0m:515)\n"
     ]
    },
    {
     "data": {
      "text/html": [
       "<style  type=\"text/css\" >\n",
       "</style><table id=\"T_5d96636e_f2fe_11ec_a382_6045bd7774bc\" ><thead>    <tr>        <th class=\"index_name level0\" >Shell No.</th>        <th class=\"col_heading level0 col0\" >t_rad</th>        <th class=\"col_heading level0 col1\" >next_t_rad</th>        <th class=\"col_heading level0 col2\" >w</th>        <th class=\"col_heading level0 col3\" >next_w</th>    </tr></thead><tbody>\n",
       "                <tr>\n",
       "                        <th id=\"T_5d96636e_f2fe_11ec_a382_6045bd7774bclevel0_row0\" class=\"row_heading level0 row0\" >0</th>\n",
       "                        <td id=\"T_5d96636e_f2fe_11ec_a382_6045bd7774bcrow0_col0\" class=\"data row0 col0\" >1.1e+04</td>\n",
       "                        <td id=\"T_5d96636e_f2fe_11ec_a382_6045bd7774bcrow0_col1\" class=\"data row0 col1\" >1.1e+04</td>\n",
       "                        <td id=\"T_5d96636e_f2fe_11ec_a382_6045bd7774bcrow0_col2\" class=\"data row0 col2\" >0.469</td>\n",
       "                        <td id=\"T_5d96636e_f2fe_11ec_a382_6045bd7774bcrow0_col3\" class=\"data row0 col3\" >0.479</td>\n",
       "            </tr>\n",
       "            <tr>\n",
       "                        <th id=\"T_5d96636e_f2fe_11ec_a382_6045bd7774bclevel0_row1\" class=\"row_heading level0 row1\" >5</th>\n",
       "                        <td id=\"T_5d96636e_f2fe_11ec_a382_6045bd7774bcrow1_col0\" class=\"data row1 col0\" >1.12e+04</td>\n",
       "                        <td id=\"T_5d96636e_f2fe_11ec_a382_6045bd7774bcrow1_col1\" class=\"data row1 col1\" >1.13e+04</td>\n",
       "                        <td id=\"T_5d96636e_f2fe_11ec_a382_6045bd7774bcrow1_col2\" class=\"data row1 col2\" >0.182</td>\n",
       "                        <td id=\"T_5d96636e_f2fe_11ec_a382_6045bd7774bcrow1_col3\" class=\"data row1 col3\" >0.178</td>\n",
       "            </tr>\n",
       "            <tr>\n",
       "                        <th id=\"T_5d96636e_f2fe_11ec_a382_6045bd7774bclevel0_row2\" class=\"row_heading level0 row2\" >10</th>\n",
       "                        <td id=\"T_5d96636e_f2fe_11ec_a382_6045bd7774bcrow2_col0\" class=\"data row2 col0\" >1.1e+04</td>\n",
       "                        <td id=\"T_5d96636e_f2fe_11ec_a382_6045bd7774bcrow2_col1\" class=\"data row2 col1\" >1.1e+04</td>\n",
       "                        <td id=\"T_5d96636e_f2fe_11ec_a382_6045bd7774bcrow2_col2\" class=\"data row2 col2\" >0.113</td>\n",
       "                        <td id=\"T_5d96636e_f2fe_11ec_a382_6045bd7774bcrow2_col3\" class=\"data row2 col3\" >0.113</td>\n",
       "            </tr>\n",
       "            <tr>\n",
       "                        <th id=\"T_5d96636e_f2fe_11ec_a382_6045bd7774bclevel0_row3\" class=\"row_heading level0 row3\" >15</th>\n",
       "                        <td id=\"T_5d96636e_f2fe_11ec_a382_6045bd7774bcrow3_col0\" class=\"data row3 col0\" >1.07e+04</td>\n",
       "                        <td id=\"T_5d96636e_f2fe_11ec_a382_6045bd7774bcrow3_col1\" class=\"data row3 col1\" >1.07e+04</td>\n",
       "                        <td id=\"T_5d96636e_f2fe_11ec_a382_6045bd7774bcrow3_col2\" class=\"data row3 col2\" >0.0861</td>\n",
       "                        <td id=\"T_5d96636e_f2fe_11ec_a382_6045bd7774bcrow3_col3\" class=\"data row3 col3\" >0.0839</td>\n",
       "            </tr>\n",
       "    </tbody></table>"
      ],
      "text/plain": [
       "<pandas.io.formats.style.Styler at 0x7f300123a7f0>"
      ]
     },
     "metadata": {},
     "output_type": "display_data"
    },
    {
     "name": "stdout",
     "output_type": "stream",
     "text": [
      "[\u001b[1mtardis.simulation.base\u001b[0m][\u001b[1;37mINFO\u001b[0m   ]  \n",
      "\t\n",
      "\tCurrent t_inner = 10638.407 K\n",
      "\tExpected t_inner for next iteration = 10650.202 K\n",
      " (\u001b[1mbase.py\u001b[0m:542)\n"
     ]
    },
    {
     "name": "stdout",
     "output_type": "stream",
     "text": [
      "[\u001b[1mtardis.simulation.base\u001b[0m][\u001b[1;37mINFO\u001b[0m   ]  \n",
      "\t\n",
      "\tStarting iteration 6 of 20 (\u001b[1mbase.py\u001b[0m:378)\n"
     ]
    },
    {
     "name": "stdout",
     "output_type": "stream",
     "text": [
      "[\u001b[1mtardis.simulation.base\u001b[0m][\u001b[1;37mINFO\u001b[0m   ]  \n",
      "\t\n",
      "\tLuminosity emitted   = 1.061e+43 erg / s\n",
      "\tLuminosity absorbed  = 3.398e+42 erg / s\n",
      "\tLuminosity requested = 1.059e+43 erg / s\n",
      " (\u001b[1mbase.py\u001b[0m:547)\n"
     ]
    },
    {
     "name": "stdout",
     "output_type": "stream",
     "text": [
      "[\u001b[1mtardis.simulation.base\u001b[0m][\u001b[1;37mINFO\u001b[0m   ]  \n",
      "\tIteration converged 2/4 consecutive times. (\u001b[1mbase.py\u001b[0m:259)\n"
     ]
    },
    {
     "name": "stdout",
     "output_type": "stream",
     "text": [
      "[\u001b[1mtardis.simulation.base\u001b[0m][\u001b[1;37mINFO\u001b[0m   ]  \n",
      "\t\n",
      "\tPlasma stratification: (\u001b[1mbase.py\u001b[0m:515)\n"
     ]
    },
    {
     "data": {
      "text/html": [
       "<style  type=\"text/css\" >\n",
       "</style><table id=\"T_5e11f916_f2fe_11ec_a382_6045bd7774bc\" ><thead>    <tr>        <th class=\"index_name level0\" >Shell No.</th>        <th class=\"col_heading level0 col0\" >t_rad</th>        <th class=\"col_heading level0 col1\" >next_t_rad</th>        <th class=\"col_heading level0 col2\" >w</th>        <th class=\"col_heading level0 col3\" >next_w</th>    </tr></thead><tbody>\n",
       "                <tr>\n",
       "                        <th id=\"T_5e11f916_f2fe_11ec_a382_6045bd7774bclevel0_row0\" class=\"row_heading level0 row0\" >0</th>\n",
       "                        <td id=\"T_5e11f916_f2fe_11ec_a382_6045bd7774bcrow0_col0\" class=\"data row0 col0\" >1.1e+04</td>\n",
       "                        <td id=\"T_5e11f916_f2fe_11ec_a382_6045bd7774bcrow0_col1\" class=\"data row0 col1\" >1.1e+04</td>\n",
       "                        <td id=\"T_5e11f916_f2fe_11ec_a382_6045bd7774bcrow0_col2\" class=\"data row0 col2\" >0.479</td>\n",
       "                        <td id=\"T_5e11f916_f2fe_11ec_a382_6045bd7774bcrow0_col3\" class=\"data row0 col3\" >0.47</td>\n",
       "            </tr>\n",
       "            <tr>\n",
       "                        <th id=\"T_5e11f916_f2fe_11ec_a382_6045bd7774bclevel0_row1\" class=\"row_heading level0 row1\" >5</th>\n",
       "                        <td id=\"T_5e11f916_f2fe_11ec_a382_6045bd7774bcrow1_col0\" class=\"data row1 col0\" >1.13e+04</td>\n",
       "                        <td id=\"T_5e11f916_f2fe_11ec_a382_6045bd7774bcrow1_col1\" class=\"data row1 col1\" >1.12e+04</td>\n",
       "                        <td id=\"T_5e11f916_f2fe_11ec_a382_6045bd7774bcrow1_col2\" class=\"data row1 col2\" >0.178</td>\n",
       "                        <td id=\"T_5e11f916_f2fe_11ec_a382_6045bd7774bcrow1_col3\" class=\"data row1 col3\" >0.185</td>\n",
       "            </tr>\n",
       "            <tr>\n",
       "                        <th id=\"T_5e11f916_f2fe_11ec_a382_6045bd7774bclevel0_row2\" class=\"row_heading level0 row2\" >10</th>\n",
       "                        <td id=\"T_5e11f916_f2fe_11ec_a382_6045bd7774bcrow2_col0\" class=\"data row2 col0\" >1.1e+04</td>\n",
       "                        <td id=\"T_5e11f916_f2fe_11ec_a382_6045bd7774bcrow2_col1\" class=\"data row2 col1\" >1.11e+04</td>\n",
       "                        <td id=\"T_5e11f916_f2fe_11ec_a382_6045bd7774bcrow2_col2\" class=\"data row2 col2\" >0.113</td>\n",
       "                        <td id=\"T_5e11f916_f2fe_11ec_a382_6045bd7774bcrow2_col3\" class=\"data row2 col3\" >0.112</td>\n",
       "            </tr>\n",
       "            <tr>\n",
       "                        <th id=\"T_5e11f916_f2fe_11ec_a382_6045bd7774bclevel0_row3\" class=\"row_heading level0 row3\" >15</th>\n",
       "                        <td id=\"T_5e11f916_f2fe_11ec_a382_6045bd7774bcrow3_col0\" class=\"data row3 col0\" >1.07e+04</td>\n",
       "                        <td id=\"T_5e11f916_f2fe_11ec_a382_6045bd7774bcrow3_col1\" class=\"data row3 col1\" >1.07e+04</td>\n",
       "                        <td id=\"T_5e11f916_f2fe_11ec_a382_6045bd7774bcrow3_col2\" class=\"data row3 col2\" >0.0839</td>\n",
       "                        <td id=\"T_5e11f916_f2fe_11ec_a382_6045bd7774bcrow3_col3\" class=\"data row3 col3\" >0.0856</td>\n",
       "            </tr>\n",
       "    </tbody></table>"
      ],
      "text/plain": [
       "<pandas.io.formats.style.Styler at 0x7f2ffe9cc400>"
      ]
     },
     "metadata": {},
     "output_type": "display_data"
    },
    {
     "name": "stdout",
     "output_type": "stream",
     "text": [
      "[\u001b[1mtardis.simulation.base\u001b[0m][\u001b[1;37mINFO\u001b[0m   ]  \n",
      "\t\n",
      "\tCurrent t_inner = 10650.202 K\n",
      "\tExpected t_inner for next iteration = 10645.955 K\n",
      " (\u001b[1mbase.py\u001b[0m:542)\n"
     ]
    },
    {
     "name": "stdout",
     "output_type": "stream",
     "text": [
      "[\u001b[1mtardis.simulation.base\u001b[0m][\u001b[1;37mINFO\u001b[0m   ]  \n",
      "\t\n",
      "\tStarting iteration 7 of 20 (\u001b[1mbase.py\u001b[0m:378)\n"
     ]
    },
    {
     "name": "stdout",
     "output_type": "stream",
     "text": [
      "[\u001b[1mtardis.simulation.base\u001b[0m][\u001b[1;37mINFO\u001b[0m   ]  \n",
      "\t\n",
      "\tLuminosity emitted   = 1.061e+43 erg / s\n",
      "\tLuminosity absorbed  = 3.382e+42 erg / s\n",
      "\tLuminosity requested = 1.059e+43 erg / s\n",
      " (\u001b[1mbase.py\u001b[0m:547)\n"
     ]
    },
    {
     "name": "stdout",
     "output_type": "stream",
     "text": [
      "[\u001b[1mtardis.simulation.base\u001b[0m][\u001b[1;37mINFO\u001b[0m   ]  \n",
      "\tIteration converged 3/4 consecutive times. (\u001b[1mbase.py\u001b[0m:259)\n"
     ]
    },
    {
     "name": "stdout",
     "output_type": "stream",
     "text": [
      "[\u001b[1mtardis.simulation.base\u001b[0m][\u001b[1;37mINFO\u001b[0m   ]  \n",
      "\t\n",
      "\tPlasma stratification: (\u001b[1mbase.py\u001b[0m:515)\n"
     ]
    },
    {
     "data": {
      "text/html": [
       "<style  type=\"text/css\" >\n",
       "</style><table id=\"T_5e8edf76_f2fe_11ec_a382_6045bd7774bc\" ><thead>    <tr>        <th class=\"index_name level0\" >Shell No.</th>        <th class=\"col_heading level0 col0\" >t_rad</th>        <th class=\"col_heading level0 col1\" >next_t_rad</th>        <th class=\"col_heading level0 col2\" >w</th>        <th class=\"col_heading level0 col3\" >next_w</th>    </tr></thead><tbody>\n",
       "                <tr>\n",
       "                        <th id=\"T_5e8edf76_f2fe_11ec_a382_6045bd7774bclevel0_row0\" class=\"row_heading level0 row0\" >0</th>\n",
       "                        <td id=\"T_5e8edf76_f2fe_11ec_a382_6045bd7774bcrow0_col0\" class=\"data row0 col0\" >1.1e+04</td>\n",
       "                        <td id=\"T_5e8edf76_f2fe_11ec_a382_6045bd7774bcrow0_col1\" class=\"data row0 col1\" >1.1e+04</td>\n",
       "                        <td id=\"T_5e8edf76_f2fe_11ec_a382_6045bd7774bcrow0_col2\" class=\"data row0 col2\" >0.47</td>\n",
       "                        <td id=\"T_5e8edf76_f2fe_11ec_a382_6045bd7774bcrow0_col3\" class=\"data row0 col3\" >0.47</td>\n",
       "            </tr>\n",
       "            <tr>\n",
       "                        <th id=\"T_5e8edf76_f2fe_11ec_a382_6045bd7774bclevel0_row1\" class=\"row_heading level0 row1\" >5</th>\n",
       "                        <td id=\"T_5e8edf76_f2fe_11ec_a382_6045bd7774bcrow1_col0\" class=\"data row1 col0\" >1.12e+04</td>\n",
       "                        <td id=\"T_5e8edf76_f2fe_11ec_a382_6045bd7774bcrow1_col1\" class=\"data row1 col1\" >1.13e+04</td>\n",
       "                        <td id=\"T_5e8edf76_f2fe_11ec_a382_6045bd7774bcrow1_col2\" class=\"data row1 col2\" >0.185</td>\n",
       "                        <td id=\"T_5e8edf76_f2fe_11ec_a382_6045bd7774bcrow1_col3\" class=\"data row1 col3\" >0.178</td>\n",
       "            </tr>\n",
       "            <tr>\n",
       "                        <th id=\"T_5e8edf76_f2fe_11ec_a382_6045bd7774bclevel0_row2\" class=\"row_heading level0 row2\" >10</th>\n",
       "                        <td id=\"T_5e8edf76_f2fe_11ec_a382_6045bd7774bcrow2_col0\" class=\"data row2 col0\" >1.11e+04</td>\n",
       "                        <td id=\"T_5e8edf76_f2fe_11ec_a382_6045bd7774bcrow2_col1\" class=\"data row2 col1\" >1.11e+04</td>\n",
       "                        <td id=\"T_5e8edf76_f2fe_11ec_a382_6045bd7774bcrow2_col2\" class=\"data row2 col2\" >0.112</td>\n",
       "                        <td id=\"T_5e8edf76_f2fe_11ec_a382_6045bd7774bcrow2_col3\" class=\"data row2 col3\" >0.112</td>\n",
       "            </tr>\n",
       "            <tr>\n",
       "                        <th id=\"T_5e8edf76_f2fe_11ec_a382_6045bd7774bclevel0_row3\" class=\"row_heading level0 row3\" >15</th>\n",
       "                        <td id=\"T_5e8edf76_f2fe_11ec_a382_6045bd7774bcrow3_col0\" class=\"data row3 col0\" >1.07e+04</td>\n",
       "                        <td id=\"T_5e8edf76_f2fe_11ec_a382_6045bd7774bcrow3_col1\" class=\"data row3 col1\" >1.07e+04</td>\n",
       "                        <td id=\"T_5e8edf76_f2fe_11ec_a382_6045bd7774bcrow3_col2\" class=\"data row3 col2\" >0.0856</td>\n",
       "                        <td id=\"T_5e8edf76_f2fe_11ec_a382_6045bd7774bcrow3_col3\" class=\"data row3 col3\" >0.086</td>\n",
       "            </tr>\n",
       "    </tbody></table>"
      ],
      "text/plain": [
       "<pandas.io.formats.style.Styler at 0x7f30006233d0>"
      ]
     },
     "metadata": {},
     "output_type": "display_data"
    },
    {
     "name": "stdout",
     "output_type": "stream",
     "text": [
      "[\u001b[1mtardis.simulation.base\u001b[0m][\u001b[1;37mINFO\u001b[0m   ]  \n",
      "\t\n",
      "\tCurrent t_inner = 10645.955 K\n",
      "\tExpected t_inner for next iteration = 10642.050 K\n",
      " (\u001b[1mbase.py\u001b[0m:542)\n"
     ]
    },
    {
     "name": "stdout",
     "output_type": "stream",
     "text": [
      "[\u001b[1mtardis.simulation.base\u001b[0m][\u001b[1;37mINFO\u001b[0m   ]  \n",
      "\t\n",
      "\tStarting iteration 8 of 20 (\u001b[1mbase.py\u001b[0m:378)\n"
     ]
    },
    {
     "name": "stdout",
     "output_type": "stream",
     "text": [
      "[\u001b[1mtardis.simulation.base\u001b[0m][\u001b[1;37mINFO\u001b[0m   ]  \n",
      "\t\n",
      "\tLuminosity emitted   = 1.062e+43 erg / s\n",
      "\tLuminosity absorbed  = 3.350e+42 erg / s\n",
      "\tLuminosity requested = 1.059e+43 erg / s\n",
      " (\u001b[1mbase.py\u001b[0m:547)\n"
     ]
    },
    {
     "name": "stdout",
     "output_type": "stream",
     "text": [
      "[\u001b[1mtardis.simulation.base\u001b[0m][\u001b[1;37mINFO\u001b[0m   ]  \n",
      "\tIteration converged 4/4 consecutive times. (\u001b[1mbase.py\u001b[0m:259)\n"
     ]
    },
    {
     "name": "stdout",
     "output_type": "stream",
     "text": [
      "[\u001b[1mtardis.simulation.base\u001b[0m][\u001b[1;37mINFO\u001b[0m   ]  \n",
      "\t\n",
      "\tPlasma stratification: (\u001b[1mbase.py\u001b[0m:515)\n"
     ]
    },
    {
     "data": {
      "text/html": [
       "<style  type=\"text/css\" >\n",
       "</style><table id=\"T_5f0a55f2_f2fe_11ec_a382_6045bd7774bc\" ><thead>    <tr>        <th class=\"index_name level0\" >Shell No.</th>        <th class=\"col_heading level0 col0\" >t_rad</th>        <th class=\"col_heading level0 col1\" >next_t_rad</th>        <th class=\"col_heading level0 col2\" >w</th>        <th class=\"col_heading level0 col3\" >next_w</th>    </tr></thead><tbody>\n",
       "                <tr>\n",
       "                        <th id=\"T_5f0a55f2_f2fe_11ec_a382_6045bd7774bclevel0_row0\" class=\"row_heading level0 row0\" >0</th>\n",
       "                        <td id=\"T_5f0a55f2_f2fe_11ec_a382_6045bd7774bcrow0_col0\" class=\"data row0 col0\" >1.1e+04</td>\n",
       "                        <td id=\"T_5f0a55f2_f2fe_11ec_a382_6045bd7774bcrow0_col1\" class=\"data row0 col1\" >1.11e+04</td>\n",
       "                        <td id=\"T_5f0a55f2_f2fe_11ec_a382_6045bd7774bcrow0_col2\" class=\"data row0 col2\" >0.47</td>\n",
       "                        <td id=\"T_5f0a55f2_f2fe_11ec_a382_6045bd7774bcrow0_col3\" class=\"data row0 col3\" >0.472</td>\n",
       "            </tr>\n",
       "            <tr>\n",
       "                        <th id=\"T_5f0a55f2_f2fe_11ec_a382_6045bd7774bclevel0_row1\" class=\"row_heading level0 row1\" >5</th>\n",
       "                        <td id=\"T_5f0a55f2_f2fe_11ec_a382_6045bd7774bcrow1_col0\" class=\"data row1 col0\" >1.13e+04</td>\n",
       "                        <td id=\"T_5f0a55f2_f2fe_11ec_a382_6045bd7774bcrow1_col1\" class=\"data row1 col1\" >1.14e+04</td>\n",
       "                        <td id=\"T_5f0a55f2_f2fe_11ec_a382_6045bd7774bcrow1_col2\" class=\"data row1 col2\" >0.178</td>\n",
       "                        <td id=\"T_5f0a55f2_f2fe_11ec_a382_6045bd7774bcrow1_col3\" class=\"data row1 col3\" >0.175</td>\n",
       "            </tr>\n",
       "            <tr>\n",
       "                        <th id=\"T_5f0a55f2_f2fe_11ec_a382_6045bd7774bclevel0_row2\" class=\"row_heading level0 row2\" >10</th>\n",
       "                        <td id=\"T_5f0a55f2_f2fe_11ec_a382_6045bd7774bcrow2_col0\" class=\"data row2 col0\" >1.11e+04</td>\n",
       "                        <td id=\"T_5f0a55f2_f2fe_11ec_a382_6045bd7774bcrow2_col1\" class=\"data row2 col1\" >1.11e+04</td>\n",
       "                        <td id=\"T_5f0a55f2_f2fe_11ec_a382_6045bd7774bcrow2_col2\" class=\"data row2 col2\" >0.112</td>\n",
       "                        <td id=\"T_5f0a55f2_f2fe_11ec_a382_6045bd7774bcrow2_col3\" class=\"data row2 col3\" >0.111</td>\n",
       "            </tr>\n",
       "            <tr>\n",
       "                        <th id=\"T_5f0a55f2_f2fe_11ec_a382_6045bd7774bclevel0_row3\" class=\"row_heading level0 row3\" >15</th>\n",
       "                        <td id=\"T_5f0a55f2_f2fe_11ec_a382_6045bd7774bcrow3_col0\" class=\"data row3 col0\" >1.07e+04</td>\n",
       "                        <td id=\"T_5f0a55f2_f2fe_11ec_a382_6045bd7774bcrow3_col1\" class=\"data row3 col1\" >1.07e+04</td>\n",
       "                        <td id=\"T_5f0a55f2_f2fe_11ec_a382_6045bd7774bcrow3_col2\" class=\"data row3 col2\" >0.086</td>\n",
       "                        <td id=\"T_5f0a55f2_f2fe_11ec_a382_6045bd7774bcrow3_col3\" class=\"data row3 col3\" >0.084</td>\n",
       "            </tr>\n",
       "    </tbody></table>"
      ],
      "text/plain": [
       "<pandas.io.formats.style.Styler at 0x7f3000623eb0>"
      ]
     },
     "metadata": {},
     "output_type": "display_data"
    },
    {
     "name": "stdout",
     "output_type": "stream",
     "text": [
      "[\u001b[1mtardis.simulation.base\u001b[0m][\u001b[1;37mINFO\u001b[0m   ]  \n",
      "\t\n",
      "\tCurrent t_inner = 10642.050 K\n",
      "\tExpected t_inner for next iteration = 10636.106 K\n",
      " (\u001b[1mbase.py\u001b[0m:542)\n"
     ]
    },
    {
     "name": "stdout",
     "output_type": "stream",
     "text": [
      "[\u001b[1mtardis.simulation.base\u001b[0m][\u001b[1;37mINFO\u001b[0m   ]  \n",
      "\t\n",
      "\tStarting iteration 9 of 20 (\u001b[1mbase.py\u001b[0m:378)\n"
     ]
    },
    {
     "name": "stdout",
     "output_type": "stream",
     "text": [
      "[\u001b[1mtardis.simulation.base\u001b[0m][\u001b[1;37mINFO\u001b[0m   ]  \n",
      "\t\n",
      "\tLuminosity emitted   = 1.052e+43 erg / s\n",
      "\tLuminosity absorbed  = 3.411e+42 erg / s\n",
      "\tLuminosity requested = 1.059e+43 erg / s\n",
      " (\u001b[1mbase.py\u001b[0m:547)\n"
     ]
    },
    {
     "name": "stdout",
     "output_type": "stream",
     "text": [
      "[\u001b[1mtardis.simulation.base\u001b[0m][\u001b[1;37mINFO\u001b[0m   ]  \n",
      "\tIteration converged 5/4 consecutive times. (\u001b[1mbase.py\u001b[0m:259)\n"
     ]
    },
    {
     "name": "stdout",
     "output_type": "stream",
     "text": [
      "[\u001b[1mtardis.simulation.base\u001b[0m][\u001b[1;37mINFO\u001b[0m   ]  \n",
      "\t\n",
      "\tPlasma stratification: (\u001b[1mbase.py\u001b[0m:515)\n"
     ]
    },
    {
     "data": {
      "text/html": [
       "<style  type=\"text/css\" >\n",
       "</style><table id=\"T_5f87a08e_f2fe_11ec_a382_6045bd7774bc\" ><thead>    <tr>        <th class=\"index_name level0\" >Shell No.</th>        <th class=\"col_heading level0 col0\" >t_rad</th>        <th class=\"col_heading level0 col1\" >next_t_rad</th>        <th class=\"col_heading level0 col2\" >w</th>        <th class=\"col_heading level0 col3\" >next_w</th>    </tr></thead><tbody>\n",
       "                <tr>\n",
       "                        <th id=\"T_5f87a08e_f2fe_11ec_a382_6045bd7774bclevel0_row0\" class=\"row_heading level0 row0\" >0</th>\n",
       "                        <td id=\"T_5f87a08e_f2fe_11ec_a382_6045bd7774bcrow0_col0\" class=\"data row0 col0\" >1.11e+04</td>\n",
       "                        <td id=\"T_5f87a08e_f2fe_11ec_a382_6045bd7774bcrow0_col1\" class=\"data row0 col1\" >1.11e+04</td>\n",
       "                        <td id=\"T_5f87a08e_f2fe_11ec_a382_6045bd7774bcrow0_col2\" class=\"data row0 col2\" >0.472</td>\n",
       "                        <td id=\"T_5f87a08e_f2fe_11ec_a382_6045bd7774bcrow0_col3\" class=\"data row0 col3\" >0.469</td>\n",
       "            </tr>\n",
       "            <tr>\n",
       "                        <th id=\"T_5f87a08e_f2fe_11ec_a382_6045bd7774bclevel0_row1\" class=\"row_heading level0 row1\" >5</th>\n",
       "                        <td id=\"T_5f87a08e_f2fe_11ec_a382_6045bd7774bcrow1_col0\" class=\"data row1 col0\" >1.14e+04</td>\n",
       "                        <td id=\"T_5f87a08e_f2fe_11ec_a382_6045bd7774bcrow1_col1\" class=\"data row1 col1\" >1.15e+04</td>\n",
       "                        <td id=\"T_5f87a08e_f2fe_11ec_a382_6045bd7774bcrow1_col2\" class=\"data row1 col2\" >0.175</td>\n",
       "                        <td id=\"T_5f87a08e_f2fe_11ec_a382_6045bd7774bcrow1_col3\" class=\"data row1 col3\" >0.17</td>\n",
       "            </tr>\n",
       "            <tr>\n",
       "                        <th id=\"T_5f87a08e_f2fe_11ec_a382_6045bd7774bclevel0_row2\" class=\"row_heading level0 row2\" >10</th>\n",
       "                        <td id=\"T_5f87a08e_f2fe_11ec_a382_6045bd7774bcrow2_col0\" class=\"data row2 col0\" >1.11e+04</td>\n",
       "                        <td id=\"T_5f87a08e_f2fe_11ec_a382_6045bd7774bcrow2_col1\" class=\"data row2 col1\" >1.11e+04</td>\n",
       "                        <td id=\"T_5f87a08e_f2fe_11ec_a382_6045bd7774bcrow2_col2\" class=\"data row2 col2\" >0.111</td>\n",
       "                        <td id=\"T_5f87a08e_f2fe_11ec_a382_6045bd7774bcrow2_col3\" class=\"data row2 col3\" >0.109</td>\n",
       "            </tr>\n",
       "            <tr>\n",
       "                        <th id=\"T_5f87a08e_f2fe_11ec_a382_6045bd7774bclevel0_row3\" class=\"row_heading level0 row3\" >15</th>\n",
       "                        <td id=\"T_5f87a08e_f2fe_11ec_a382_6045bd7774bcrow3_col0\" class=\"data row3 col0\" >1.07e+04</td>\n",
       "                        <td id=\"T_5f87a08e_f2fe_11ec_a382_6045bd7774bcrow3_col1\" class=\"data row3 col1\" >1.08e+04</td>\n",
       "                        <td id=\"T_5f87a08e_f2fe_11ec_a382_6045bd7774bcrow3_col2\" class=\"data row3 col2\" >0.084</td>\n",
       "                        <td id=\"T_5f87a08e_f2fe_11ec_a382_6045bd7774bcrow3_col3\" class=\"data row3 col3\" >0.0822</td>\n",
       "            </tr>\n",
       "    </tbody></table>"
      ],
      "text/plain": [
       "<pandas.io.formats.style.Styler at 0x7f2ffe9d12e0>"
      ]
     },
     "metadata": {},
     "output_type": "display_data"
    },
    {
     "name": "stdout",
     "output_type": "stream",
     "text": [
      "[\u001b[1mtardis.simulation.base\u001b[0m][\u001b[1;37mINFO\u001b[0m   ]  \n",
      "\t\n",
      "\tCurrent t_inner = 10636.106 K\n",
      "\tExpected t_inner for next iteration = 10654.313 K\n",
      " (\u001b[1mbase.py\u001b[0m:542)\n"
     ]
    },
    {
     "name": "stdout",
     "output_type": "stream",
     "text": [
      "[\u001b[1mtardis.simulation.base\u001b[0m][\u001b[1;37mINFO\u001b[0m   ]  \n",
      "\t\n",
      "\tStarting iteration 10 of 20 (\u001b[1mbase.py\u001b[0m:378)\n"
     ]
    },
    {
     "name": "stdout",
     "output_type": "stream",
     "text": [
      "[\u001b[1mtardis.simulation.base\u001b[0m][\u001b[1;37mINFO\u001b[0m   ]  \n",
      "\t\n",
      "\tLuminosity emitted   = 1.070e+43 erg / s\n",
      "\tLuminosity absorbed  = 3.335e+42 erg / s\n",
      "\tLuminosity requested = 1.059e+43 erg / s\n",
      " (\u001b[1mbase.py\u001b[0m:547)\n"
     ]
    },
    {
     "name": "stdout",
     "output_type": "stream",
     "text": [
      "[\u001b[1mtardis.simulation.base\u001b[0m][\u001b[1;37mINFO\u001b[0m   ]  \n",
      "\t\n",
      "\tPlasma stratification: (\u001b[1mbase.py\u001b[0m:515)\n"
     ]
    },
    {
     "data": {
      "text/html": [
       "<style  type=\"text/css\" >\n",
       "</style><table id=\"T_60051460_f2fe_11ec_a382_6045bd7774bc\" ><thead>    <tr>        <th class=\"index_name level0\" >Shell No.</th>        <th class=\"col_heading level0 col0\" >t_rad</th>        <th class=\"col_heading level0 col1\" >next_t_rad</th>        <th class=\"col_heading level0 col2\" >w</th>        <th class=\"col_heading level0 col3\" >next_w</th>    </tr></thead><tbody>\n",
       "                <tr>\n",
       "                        <th id=\"T_60051460_f2fe_11ec_a382_6045bd7774bclevel0_row0\" class=\"row_heading level0 row0\" >0</th>\n",
       "                        <td id=\"T_60051460_f2fe_11ec_a382_6045bd7774bcrow0_col0\" class=\"data row0 col0\" >1.11e+04</td>\n",
       "                        <td id=\"T_60051460_f2fe_11ec_a382_6045bd7774bcrow0_col1\" class=\"data row0 col1\" >1.1e+04</td>\n",
       "                        <td id=\"T_60051460_f2fe_11ec_a382_6045bd7774bcrow0_col2\" class=\"data row0 col2\" >0.469</td>\n",
       "                        <td id=\"T_60051460_f2fe_11ec_a382_6045bd7774bcrow0_col3\" class=\"data row0 col3\" >0.475</td>\n",
       "            </tr>\n",
       "            <tr>\n",
       "                        <th id=\"T_60051460_f2fe_11ec_a382_6045bd7774bclevel0_row1\" class=\"row_heading level0 row1\" >5</th>\n",
       "                        <td id=\"T_60051460_f2fe_11ec_a382_6045bd7774bcrow1_col0\" class=\"data row1 col0\" >1.15e+04</td>\n",
       "                        <td id=\"T_60051460_f2fe_11ec_a382_6045bd7774bcrow1_col1\" class=\"data row1 col1\" >1.14e+04</td>\n",
       "                        <td id=\"T_60051460_f2fe_11ec_a382_6045bd7774bcrow1_col2\" class=\"data row1 col2\" >0.17</td>\n",
       "                        <td id=\"T_60051460_f2fe_11ec_a382_6045bd7774bcrow1_col3\" class=\"data row1 col3\" >0.177</td>\n",
       "            </tr>\n",
       "            <tr>\n",
       "                        <th id=\"T_60051460_f2fe_11ec_a382_6045bd7774bclevel0_row2\" class=\"row_heading level0 row2\" >10</th>\n",
       "                        <td id=\"T_60051460_f2fe_11ec_a382_6045bd7774bcrow2_col0\" class=\"data row2 col0\" >1.11e+04</td>\n",
       "                        <td id=\"T_60051460_f2fe_11ec_a382_6045bd7774bcrow2_col1\" class=\"data row2 col1\" >1.11e+04</td>\n",
       "                        <td id=\"T_60051460_f2fe_11ec_a382_6045bd7774bcrow2_col2\" class=\"data row2 col2\" >0.109</td>\n",
       "                        <td id=\"T_60051460_f2fe_11ec_a382_6045bd7774bcrow2_col3\" class=\"data row2 col3\" >0.112</td>\n",
       "            </tr>\n",
       "            <tr>\n",
       "                        <th id=\"T_60051460_f2fe_11ec_a382_6045bd7774bclevel0_row3\" class=\"row_heading level0 row3\" >15</th>\n",
       "                        <td id=\"T_60051460_f2fe_11ec_a382_6045bd7774bcrow3_col0\" class=\"data row3 col0\" >1.08e+04</td>\n",
       "                        <td id=\"T_60051460_f2fe_11ec_a382_6045bd7774bcrow3_col1\" class=\"data row3 col1\" >1.06e+04</td>\n",
       "                        <td id=\"T_60051460_f2fe_11ec_a382_6045bd7774bcrow3_col2\" class=\"data row3 col2\" >0.0822</td>\n",
       "                        <td id=\"T_60051460_f2fe_11ec_a382_6045bd7774bcrow3_col3\" class=\"data row3 col3\" >0.0878</td>\n",
       "            </tr>\n",
       "    </tbody></table>"
      ],
      "text/plain": [
       "<pandas.io.formats.style.Styler at 0x7f2ffe9d1a60>"
      ]
     },
     "metadata": {},
     "output_type": "display_data"
    },
    {
     "name": "stdout",
     "output_type": "stream",
     "text": [
      "[\u001b[1mtardis.simulation.base\u001b[0m][\u001b[1;37mINFO\u001b[0m   ]  \n",
      "\t\n",
      "\tCurrent t_inner = 10654.313 K\n",
      "\tExpected t_inner for next iteration = 10628.190 K\n",
      " (\u001b[1mbase.py\u001b[0m:542)\n"
     ]
    },
    {
     "name": "stdout",
     "output_type": "stream",
     "text": [
      "[\u001b[1mtardis.simulation.base\u001b[0m][\u001b[1;37mINFO\u001b[0m   ]  \n",
      "\t\n",
      "\tStarting iteration 11 of 20 (\u001b[1mbase.py\u001b[0m:378)\n"
     ]
    },
    {
     "name": "stdout",
     "output_type": "stream",
     "text": [
      "[\u001b[1mtardis.simulation.base\u001b[0m][\u001b[1;37mINFO\u001b[0m   ]  \n",
      "\t\n",
      "\tLuminosity emitted   = 1.053e+43 erg / s\n",
      "\tLuminosity absorbed  = 3.363e+42 erg / s\n",
      "\tLuminosity requested = 1.059e+43 erg / s\n",
      " (\u001b[1mbase.py\u001b[0m:547)\n"
     ]
    },
    {
     "name": "stdout",
     "output_type": "stream",
     "text": [
      "[\u001b[1mtardis.simulation.base\u001b[0m][\u001b[1;37mINFO\u001b[0m   ]  \n",
      "\tIteration converged 1/4 consecutive times. (\u001b[1mbase.py\u001b[0m:259)\n"
     ]
    },
    {
     "name": "stdout",
     "output_type": "stream",
     "text": [
      "[\u001b[1mtardis.simulation.base\u001b[0m][\u001b[1;37mINFO\u001b[0m   ]  \n",
      "\t\n",
      "\tPlasma stratification: (\u001b[1mbase.py\u001b[0m:515)\n"
     ]
    },
    {
     "data": {
      "text/html": [
       "<style  type=\"text/css\" >\n",
       "</style><table id=\"T_60802042_f2fe_11ec_a382_6045bd7774bc\" ><thead>    <tr>        <th class=\"index_name level0\" >Shell No.</th>        <th class=\"col_heading level0 col0\" >t_rad</th>        <th class=\"col_heading level0 col1\" >next_t_rad</th>        <th class=\"col_heading level0 col2\" >w</th>        <th class=\"col_heading level0 col3\" >next_w</th>    </tr></thead><tbody>\n",
       "                <tr>\n",
       "                        <th id=\"T_60802042_f2fe_11ec_a382_6045bd7774bclevel0_row0\" class=\"row_heading level0 row0\" >0</th>\n",
       "                        <td id=\"T_60802042_f2fe_11ec_a382_6045bd7774bcrow0_col0\" class=\"data row0 col0\" >1.1e+04</td>\n",
       "                        <td id=\"T_60802042_f2fe_11ec_a382_6045bd7774bcrow0_col1\" class=\"data row0 col1\" >1.1e+04</td>\n",
       "                        <td id=\"T_60802042_f2fe_11ec_a382_6045bd7774bcrow0_col2\" class=\"data row0 col2\" >0.475</td>\n",
       "                        <td id=\"T_60802042_f2fe_11ec_a382_6045bd7774bcrow0_col3\" class=\"data row0 col3\" >0.472</td>\n",
       "            </tr>\n",
       "            <tr>\n",
       "                        <th id=\"T_60802042_f2fe_11ec_a382_6045bd7774bclevel0_row1\" class=\"row_heading level0 row1\" >5</th>\n",
       "                        <td id=\"T_60802042_f2fe_11ec_a382_6045bd7774bcrow1_col0\" class=\"data row1 col0\" >1.14e+04</td>\n",
       "                        <td id=\"T_60802042_f2fe_11ec_a382_6045bd7774bcrow1_col1\" class=\"data row1 col1\" >1.12e+04</td>\n",
       "                        <td id=\"T_60802042_f2fe_11ec_a382_6045bd7774bcrow1_col2\" class=\"data row1 col2\" >0.177</td>\n",
       "                        <td id=\"T_60802042_f2fe_11ec_a382_6045bd7774bcrow1_col3\" class=\"data row1 col3\" >0.184</td>\n",
       "            </tr>\n",
       "            <tr>\n",
       "                        <th id=\"T_60802042_f2fe_11ec_a382_6045bd7774bclevel0_row2\" class=\"row_heading level0 row2\" >10</th>\n",
       "                        <td id=\"T_60802042_f2fe_11ec_a382_6045bd7774bcrow2_col0\" class=\"data row2 col0\" >1.11e+04</td>\n",
       "                        <td id=\"T_60802042_f2fe_11ec_a382_6045bd7774bcrow2_col1\" class=\"data row2 col1\" >1.1e+04</td>\n",
       "                        <td id=\"T_60802042_f2fe_11ec_a382_6045bd7774bcrow2_col2\" class=\"data row2 col2\" >0.112</td>\n",
       "                        <td id=\"T_60802042_f2fe_11ec_a382_6045bd7774bcrow2_col3\" class=\"data row2 col3\" >0.114</td>\n",
       "            </tr>\n",
       "            <tr>\n",
       "                        <th id=\"T_60802042_f2fe_11ec_a382_6045bd7774bclevel0_row3\" class=\"row_heading level0 row3\" >15</th>\n",
       "                        <td id=\"T_60802042_f2fe_11ec_a382_6045bd7774bcrow3_col0\" class=\"data row3 col0\" >1.06e+04</td>\n",
       "                        <td id=\"T_60802042_f2fe_11ec_a382_6045bd7774bcrow3_col1\" class=\"data row3 col1\" >1.06e+04</td>\n",
       "                        <td id=\"T_60802042_f2fe_11ec_a382_6045bd7774bcrow3_col2\" class=\"data row3 col2\" >0.0878</td>\n",
       "                        <td id=\"T_60802042_f2fe_11ec_a382_6045bd7774bcrow3_col3\" class=\"data row3 col3\" >0.0859</td>\n",
       "            </tr>\n",
       "    </tbody></table>"
      ],
      "text/plain": [
       "<pandas.io.formats.style.Styler at 0x7f2ffe9d1730>"
      ]
     },
     "metadata": {},
     "output_type": "display_data"
    },
    {
     "name": "stdout",
     "output_type": "stream",
     "text": [
      "[\u001b[1mtardis.simulation.base\u001b[0m][\u001b[1;37mINFO\u001b[0m   ]  \n",
      "\t\n",
      "\tCurrent t_inner = 10628.190 K\n",
      "\tExpected t_inner for next iteration = 10644.054 K\n",
      " (\u001b[1mbase.py\u001b[0m:542)\n"
     ]
    },
    {
     "name": "stdout",
     "output_type": "stream",
     "text": [
      "[\u001b[1mtardis.simulation.base\u001b[0m][\u001b[1;37mINFO\u001b[0m   ]  \n",
      "\t\n",
      "\tStarting iteration 12 of 20 (\u001b[1mbase.py\u001b[0m:378)\n"
     ]
    },
    {
     "name": "stdout",
     "output_type": "stream",
     "text": [
      "[\u001b[1mtardis.simulation.base\u001b[0m][\u001b[1;37mINFO\u001b[0m   ]  \n",
      "\t\n",
      "\tLuminosity emitted   = 1.056e+43 erg / s\n",
      "\tLuminosity absorbed  = 3.420e+42 erg / s\n",
      "\tLuminosity requested = 1.059e+43 erg / s\n",
      " (\u001b[1mbase.py\u001b[0m:547)\n"
     ]
    },
    {
     "name": "stdout",
     "output_type": "stream",
     "text": [
      "[\u001b[1mtardis.simulation.base\u001b[0m][\u001b[1;37mINFO\u001b[0m   ]  \n",
      "\t\n",
      "\tPlasma stratification: (\u001b[1mbase.py\u001b[0m:515)\n"
     ]
    },
    {
     "data": {
      "text/html": [
       "<style  type=\"text/css\" >\n",
       "</style><table id=\"T_60fb355c_f2fe_11ec_a382_6045bd7774bc\" ><thead>    <tr>        <th class=\"index_name level0\" >Shell No.</th>        <th class=\"col_heading level0 col0\" >t_rad</th>        <th class=\"col_heading level0 col1\" >next_t_rad</th>        <th class=\"col_heading level0 col2\" >w</th>        <th class=\"col_heading level0 col3\" >next_w</th>    </tr></thead><tbody>\n",
       "                <tr>\n",
       "                        <th id=\"T_60fb355c_f2fe_11ec_a382_6045bd7774bclevel0_row0\" class=\"row_heading level0 row0\" >0</th>\n",
       "                        <td id=\"T_60fb355c_f2fe_11ec_a382_6045bd7774bcrow0_col0\" class=\"data row0 col0\" >1.1e+04</td>\n",
       "                        <td id=\"T_60fb355c_f2fe_11ec_a382_6045bd7774bcrow0_col1\" class=\"data row0 col1\" >1.11e+04</td>\n",
       "                        <td id=\"T_60fb355c_f2fe_11ec_a382_6045bd7774bcrow0_col2\" class=\"data row0 col2\" >0.472</td>\n",
       "                        <td id=\"T_60fb355c_f2fe_11ec_a382_6045bd7774bcrow0_col3\" class=\"data row0 col3\" >0.467</td>\n",
       "            </tr>\n",
       "            <tr>\n",
       "                        <th id=\"T_60fb355c_f2fe_11ec_a382_6045bd7774bclevel0_row1\" class=\"row_heading level0 row1\" >5</th>\n",
       "                        <td id=\"T_60fb355c_f2fe_11ec_a382_6045bd7774bcrow1_col0\" class=\"data row1 col0\" >1.12e+04</td>\n",
       "                        <td id=\"T_60fb355c_f2fe_11ec_a382_6045bd7774bcrow1_col1\" class=\"data row1 col1\" >1.13e+04</td>\n",
       "                        <td id=\"T_60fb355c_f2fe_11ec_a382_6045bd7774bcrow1_col2\" class=\"data row1 col2\" >0.184</td>\n",
       "                        <td id=\"T_60fb355c_f2fe_11ec_a382_6045bd7774bcrow1_col3\" class=\"data row1 col3\" >0.176</td>\n",
       "            </tr>\n",
       "            <tr>\n",
       "                        <th id=\"T_60fb355c_f2fe_11ec_a382_6045bd7774bclevel0_row2\" class=\"row_heading level0 row2\" >10</th>\n",
       "                        <td id=\"T_60fb355c_f2fe_11ec_a382_6045bd7774bcrow2_col0\" class=\"data row2 col0\" >1.1e+04</td>\n",
       "                        <td id=\"T_60fb355c_f2fe_11ec_a382_6045bd7774bcrow2_col1\" class=\"data row2 col1\" >1.11e+04</td>\n",
       "                        <td id=\"T_60fb355c_f2fe_11ec_a382_6045bd7774bcrow2_col2\" class=\"data row2 col2\" >0.114</td>\n",
       "                        <td id=\"T_60fb355c_f2fe_11ec_a382_6045bd7774bcrow2_col3\" class=\"data row2 col3\" >0.11</td>\n",
       "            </tr>\n",
       "            <tr>\n",
       "                        <th id=\"T_60fb355c_f2fe_11ec_a382_6045bd7774bclevel0_row3\" class=\"row_heading level0 row3\" >15</th>\n",
       "                        <td id=\"T_60fb355c_f2fe_11ec_a382_6045bd7774bcrow3_col0\" class=\"data row3 col0\" >1.06e+04</td>\n",
       "                        <td id=\"T_60fb355c_f2fe_11ec_a382_6045bd7774bcrow3_col1\" class=\"data row3 col1\" >1.08e+04</td>\n",
       "                        <td id=\"T_60fb355c_f2fe_11ec_a382_6045bd7774bcrow3_col2\" class=\"data row3 col2\" >0.0859</td>\n",
       "                        <td id=\"T_60fb355c_f2fe_11ec_a382_6045bd7774bcrow3_col3\" class=\"data row3 col3\" >0.0821</td>\n",
       "            </tr>\n",
       "    </tbody></table>"
      ],
      "text/plain": [
       "<pandas.io.formats.style.Styler at 0x7f2ffe96fc70>"
      ]
     },
     "metadata": {},
     "output_type": "display_data"
    },
    {
     "name": "stdout",
     "output_type": "stream",
     "text": [
      "[\u001b[1mtardis.simulation.base\u001b[0m][\u001b[1;37mINFO\u001b[0m   ]  \n",
      "\t\n",
      "\tCurrent t_inner = 10644.054 K\n",
      "\tExpected t_inner for next iteration = 10653.543 K\n",
      " (\u001b[1mbase.py\u001b[0m:542)\n"
     ]
    },
    {
     "name": "stdout",
     "output_type": "stream",
     "text": [
      "[\u001b[1mtardis.simulation.base\u001b[0m][\u001b[1;37mINFO\u001b[0m   ]  \n",
      "\t\n",
      "\tStarting iteration 13 of 20 (\u001b[1mbase.py\u001b[0m:378)\n"
     ]
    },
    {
     "name": "stdout",
     "output_type": "stream",
     "text": [
      "[\u001b[1mtardis.simulation.base\u001b[0m][\u001b[1;37mINFO\u001b[0m   ]  \n",
      "\t\n",
      "\tLuminosity emitted   = 1.062e+43 erg / s\n",
      "\tLuminosity absorbed  = 3.406e+42 erg / s\n",
      "\tLuminosity requested = 1.059e+43 erg / s\n",
      " (\u001b[1mbase.py\u001b[0m:547)\n"
     ]
    },
    {
     "name": "stdout",
     "output_type": "stream",
     "text": [
      "[\u001b[1mtardis.simulation.base\u001b[0m][\u001b[1;37mINFO\u001b[0m   ]  \n",
      "\tIteration converged 1/4 consecutive times. (\u001b[1mbase.py\u001b[0m:259)\n"
     ]
    },
    {
     "name": "stdout",
     "output_type": "stream",
     "text": [
      "[\u001b[1mtardis.simulation.base\u001b[0m][\u001b[1;37mINFO\u001b[0m   ]  \n",
      "\t\n",
      "\tPlasma stratification: (\u001b[1mbase.py\u001b[0m:515)\n"
     ]
    },
    {
     "data": {
      "text/html": [
       "<style  type=\"text/css\" >\n",
       "</style><table id=\"T_6177c626_f2fe_11ec_a382_6045bd7774bc\" ><thead>    <tr>        <th class=\"index_name level0\" >Shell No.</th>        <th class=\"col_heading level0 col0\" >t_rad</th>        <th class=\"col_heading level0 col1\" >next_t_rad</th>        <th class=\"col_heading level0 col2\" >w</th>        <th class=\"col_heading level0 col3\" >next_w</th>    </tr></thead><tbody>\n",
       "                <tr>\n",
       "                        <th id=\"T_6177c626_f2fe_11ec_a382_6045bd7774bclevel0_row0\" class=\"row_heading level0 row0\" >0</th>\n",
       "                        <td id=\"T_6177c626_f2fe_11ec_a382_6045bd7774bcrow0_col0\" class=\"data row0 col0\" >1.11e+04</td>\n",
       "                        <td id=\"T_6177c626_f2fe_11ec_a382_6045bd7774bcrow0_col1\" class=\"data row0 col1\" >1.11e+04</td>\n",
       "                        <td id=\"T_6177c626_f2fe_11ec_a382_6045bd7774bcrow0_col2\" class=\"data row0 col2\" >0.467</td>\n",
       "                        <td id=\"T_6177c626_f2fe_11ec_a382_6045bd7774bcrow0_col3\" class=\"data row0 col3\" >0.466</td>\n",
       "            </tr>\n",
       "            <tr>\n",
       "                        <th id=\"T_6177c626_f2fe_11ec_a382_6045bd7774bclevel0_row1\" class=\"row_heading level0 row1\" >5</th>\n",
       "                        <td id=\"T_6177c626_f2fe_11ec_a382_6045bd7774bcrow1_col0\" class=\"data row1 col0\" >1.13e+04</td>\n",
       "                        <td id=\"T_6177c626_f2fe_11ec_a382_6045bd7774bcrow1_col1\" class=\"data row1 col1\" >1.13e+04</td>\n",
       "                        <td id=\"T_6177c626_f2fe_11ec_a382_6045bd7774bcrow1_col2\" class=\"data row1 col2\" >0.176</td>\n",
       "                        <td id=\"T_6177c626_f2fe_11ec_a382_6045bd7774bcrow1_col3\" class=\"data row1 col3\" >0.18</td>\n",
       "            </tr>\n",
       "            <tr>\n",
       "                        <th id=\"T_6177c626_f2fe_11ec_a382_6045bd7774bclevel0_row2\" class=\"row_heading level0 row2\" >10</th>\n",
       "                        <td id=\"T_6177c626_f2fe_11ec_a382_6045bd7774bcrow2_col0\" class=\"data row2 col0\" >1.11e+04</td>\n",
       "                        <td id=\"T_6177c626_f2fe_11ec_a382_6045bd7774bcrow2_col1\" class=\"data row2 col1\" >1.11e+04</td>\n",
       "                        <td id=\"T_6177c626_f2fe_11ec_a382_6045bd7774bcrow2_col2\" class=\"data row2 col2\" >0.11</td>\n",
       "                        <td id=\"T_6177c626_f2fe_11ec_a382_6045bd7774bcrow2_col3\" class=\"data row2 col3\" >0.111</td>\n",
       "            </tr>\n",
       "            <tr>\n",
       "                        <th id=\"T_6177c626_f2fe_11ec_a382_6045bd7774bclevel0_row3\" class=\"row_heading level0 row3\" >15</th>\n",
       "                        <td id=\"T_6177c626_f2fe_11ec_a382_6045bd7774bcrow3_col0\" class=\"data row3 col0\" >1.08e+04</td>\n",
       "                        <td id=\"T_6177c626_f2fe_11ec_a382_6045bd7774bcrow3_col1\" class=\"data row3 col1\" >1.08e+04</td>\n",
       "                        <td id=\"T_6177c626_f2fe_11ec_a382_6045bd7774bcrow3_col2\" class=\"data row3 col2\" >0.0821</td>\n",
       "                        <td id=\"T_6177c626_f2fe_11ec_a382_6045bd7774bcrow3_col3\" class=\"data row3 col3\" >0.0841</td>\n",
       "            </tr>\n",
       "    </tbody></table>"
      ],
      "text/plain": [
       "<pandas.io.formats.style.Styler at 0x7f3000479c40>"
      ]
     },
     "metadata": {},
     "output_type": "display_data"
    },
    {
     "name": "stdout",
     "output_type": "stream",
     "text": [
      "[\u001b[1mtardis.simulation.base\u001b[0m][\u001b[1;37mINFO\u001b[0m   ]  \n",
      "\t\n",
      "\tCurrent t_inner = 10653.543 K\n",
      "\tExpected t_inner for next iteration = 10647.277 K\n",
      " (\u001b[1mbase.py\u001b[0m:542)\n"
     ]
    },
    {
     "name": "stdout",
     "output_type": "stream",
     "text": [
      "[\u001b[1mtardis.simulation.base\u001b[0m][\u001b[1;37mINFO\u001b[0m   ]  \n",
      "\t\n",
      "\tStarting iteration 14 of 20 (\u001b[1mbase.py\u001b[0m:378)\n"
     ]
    },
    {
     "name": "stdout",
     "output_type": "stream",
     "text": [
      "[\u001b[1mtardis.simulation.base\u001b[0m][\u001b[1;37mINFO\u001b[0m   ]  \n",
      "\t\n",
      "\tLuminosity emitted   = 1.063e+43 erg / s\n",
      "\tLuminosity absorbed  = 3.369e+42 erg / s\n",
      "\tLuminosity requested = 1.059e+43 erg / s\n",
      " (\u001b[1mbase.py\u001b[0m:547)\n"
     ]
    },
    {
     "name": "stdout",
     "output_type": "stream",
     "text": [
      "[\u001b[1mtardis.simulation.base\u001b[0m][\u001b[1;37mINFO\u001b[0m   ]  \n",
      "\tIteration converged 2/4 consecutive times. (\u001b[1mbase.py\u001b[0m:259)\n"
     ]
    },
    {
     "name": "stdout",
     "output_type": "stream",
     "text": [
      "[\u001b[1mtardis.simulation.base\u001b[0m][\u001b[1;37mINFO\u001b[0m   ]  \n",
      "\t\n",
      "\tPlasma stratification: (\u001b[1mbase.py\u001b[0m:515)\n"
     ]
    },
    {
     "data": {
      "text/html": [
       "<style  type=\"text/css\" >\n",
       "</style><table id=\"T_61f384c8_f2fe_11ec_a382_6045bd7774bc\" ><thead>    <tr>        <th class=\"index_name level0\" >Shell No.</th>        <th class=\"col_heading level0 col0\" >t_rad</th>        <th class=\"col_heading level0 col1\" >next_t_rad</th>        <th class=\"col_heading level0 col2\" >w</th>        <th class=\"col_heading level0 col3\" >next_w</th>    </tr></thead><tbody>\n",
       "                <tr>\n",
       "                        <th id=\"T_61f384c8_f2fe_11ec_a382_6045bd7774bclevel0_row0\" class=\"row_heading level0 row0\" >0</th>\n",
       "                        <td id=\"T_61f384c8_f2fe_11ec_a382_6045bd7774bcrow0_col0\" class=\"data row0 col0\" >1.11e+04</td>\n",
       "                        <td id=\"T_61f384c8_f2fe_11ec_a382_6045bd7774bcrow0_col1\" class=\"data row0 col1\" >1.11e+04</td>\n",
       "                        <td id=\"T_61f384c8_f2fe_11ec_a382_6045bd7774bcrow0_col2\" class=\"data row0 col2\" >0.466</td>\n",
       "                        <td id=\"T_61f384c8_f2fe_11ec_a382_6045bd7774bcrow0_col3\" class=\"data row0 col3\" >0.469</td>\n",
       "            </tr>\n",
       "            <tr>\n",
       "                        <th id=\"T_61f384c8_f2fe_11ec_a382_6045bd7774bclevel0_row1\" class=\"row_heading level0 row1\" >5</th>\n",
       "                        <td id=\"T_61f384c8_f2fe_11ec_a382_6045bd7774bcrow1_col0\" class=\"data row1 col0\" >1.13e+04</td>\n",
       "                        <td id=\"T_61f384c8_f2fe_11ec_a382_6045bd7774bcrow1_col1\" class=\"data row1 col1\" >1.13e+04</td>\n",
       "                        <td id=\"T_61f384c8_f2fe_11ec_a382_6045bd7774bcrow1_col2\" class=\"data row1 col2\" >0.18</td>\n",
       "                        <td id=\"T_61f384c8_f2fe_11ec_a382_6045bd7774bcrow1_col3\" class=\"data row1 col3\" >0.182</td>\n",
       "            </tr>\n",
       "            <tr>\n",
       "                        <th id=\"T_61f384c8_f2fe_11ec_a382_6045bd7774bclevel0_row2\" class=\"row_heading level0 row2\" >10</th>\n",
       "                        <td id=\"T_61f384c8_f2fe_11ec_a382_6045bd7774bcrow2_col0\" class=\"data row2 col0\" >1.11e+04</td>\n",
       "                        <td id=\"T_61f384c8_f2fe_11ec_a382_6045bd7774bcrow2_col1\" class=\"data row2 col1\" >1.1e+04</td>\n",
       "                        <td id=\"T_61f384c8_f2fe_11ec_a382_6045bd7774bcrow2_col2\" class=\"data row2 col2\" >0.111</td>\n",
       "                        <td id=\"T_61f384c8_f2fe_11ec_a382_6045bd7774bcrow2_col3\" class=\"data row2 col3\" >0.113</td>\n",
       "            </tr>\n",
       "            <tr>\n",
       "                        <th id=\"T_61f384c8_f2fe_11ec_a382_6045bd7774bclevel0_row3\" class=\"row_heading level0 row3\" >15</th>\n",
       "                        <td id=\"T_61f384c8_f2fe_11ec_a382_6045bd7774bcrow3_col0\" class=\"data row3 col0\" >1.08e+04</td>\n",
       "                        <td id=\"T_61f384c8_f2fe_11ec_a382_6045bd7774bcrow3_col1\" class=\"data row3 col1\" >1.07e+04</td>\n",
       "                        <td id=\"T_61f384c8_f2fe_11ec_a382_6045bd7774bcrow3_col2\" class=\"data row3 col2\" >0.0841</td>\n",
       "                        <td id=\"T_61f384c8_f2fe_11ec_a382_6045bd7774bcrow3_col3\" class=\"data row3 col3\" >0.0854</td>\n",
       "            </tr>\n",
       "    </tbody></table>"
      ],
      "text/plain": [
       "<pandas.io.formats.style.Styler at 0x7f2ffe96fd60>"
      ]
     },
     "metadata": {},
     "output_type": "display_data"
    },
    {
     "name": "stdout",
     "output_type": "stream",
     "text": [
      "[\u001b[1mtardis.simulation.base\u001b[0m][\u001b[1;37mINFO\u001b[0m   ]  \n",
      "\t\n",
      "\tCurrent t_inner = 10647.277 K\n",
      "\tExpected t_inner for next iteration = 10638.875 K\n",
      " (\u001b[1mbase.py\u001b[0m:542)\n"
     ]
    },
    {
     "name": "stdout",
     "output_type": "stream",
     "text": [
      "[\u001b[1mtardis.simulation.base\u001b[0m][\u001b[1;37mINFO\u001b[0m   ]  \n",
      "\t\n",
      "\tStarting iteration 15 of 20 (\u001b[1mbase.py\u001b[0m:378)\n"
     ]
    },
    {
     "name": "stdout",
     "output_type": "stream",
     "text": [
      "[\u001b[1mtardis.simulation.base\u001b[0m][\u001b[1;37mINFO\u001b[0m   ]  \n",
      "\t\n",
      "\tLuminosity emitted   = 1.053e+43 erg / s\n",
      "\tLuminosity absorbed  = 3.417e+42 erg / s\n",
      "\tLuminosity requested = 1.059e+43 erg / s\n",
      " (\u001b[1mbase.py\u001b[0m:547)\n"
     ]
    },
    {
     "name": "stdout",
     "output_type": "stream",
     "text": [
      "[\u001b[1mtardis.simulation.base\u001b[0m][\u001b[1;37mINFO\u001b[0m   ]  \n",
      "\tIteration converged 3/4 consecutive times. (\u001b[1mbase.py\u001b[0m:259)\n"
     ]
    },
    {
     "name": "stdout",
     "output_type": "stream",
     "text": [
      "[\u001b[1mtardis.simulation.base\u001b[0m][\u001b[1;37mINFO\u001b[0m   ]  \n",
      "\t\n",
      "\tPlasma stratification: (\u001b[1mbase.py\u001b[0m:515)\n"
     ]
    },
    {
     "data": {
      "text/html": [
       "<style  type=\"text/css\" >\n",
       "</style><table id=\"T_626f6174_f2fe_11ec_a382_6045bd7774bc\" ><thead>    <tr>        <th class=\"index_name level0\" >Shell No.</th>        <th class=\"col_heading level0 col0\" >t_rad</th>        <th class=\"col_heading level0 col1\" >next_t_rad</th>        <th class=\"col_heading level0 col2\" >w</th>        <th class=\"col_heading level0 col3\" >next_w</th>    </tr></thead><tbody>\n",
       "                <tr>\n",
       "                        <th id=\"T_626f6174_f2fe_11ec_a382_6045bd7774bclevel0_row0\" class=\"row_heading level0 row0\" >0</th>\n",
       "                        <td id=\"T_626f6174_f2fe_11ec_a382_6045bd7774bcrow0_col0\" class=\"data row0 col0\" >1.11e+04</td>\n",
       "                        <td id=\"T_626f6174_f2fe_11ec_a382_6045bd7774bcrow0_col1\" class=\"data row0 col1\" >1.1e+04</td>\n",
       "                        <td id=\"T_626f6174_f2fe_11ec_a382_6045bd7774bcrow0_col2\" class=\"data row0 col2\" >0.469</td>\n",
       "                        <td id=\"T_626f6174_f2fe_11ec_a382_6045bd7774bcrow0_col3\" class=\"data row0 col3\" >0.484</td>\n",
       "            </tr>\n",
       "            <tr>\n",
       "                        <th id=\"T_626f6174_f2fe_11ec_a382_6045bd7774bclevel0_row1\" class=\"row_heading level0 row1\" >5</th>\n",
       "                        <td id=\"T_626f6174_f2fe_11ec_a382_6045bd7774bcrow1_col0\" class=\"data row1 col0\" >1.13e+04</td>\n",
       "                        <td id=\"T_626f6174_f2fe_11ec_a382_6045bd7774bcrow1_col1\" class=\"data row1 col1\" >1.13e+04</td>\n",
       "                        <td id=\"T_626f6174_f2fe_11ec_a382_6045bd7774bcrow1_col2\" class=\"data row1 col2\" >0.182</td>\n",
       "                        <td id=\"T_626f6174_f2fe_11ec_a382_6045bd7774bcrow1_col3\" class=\"data row1 col3\" >0.181</td>\n",
       "            </tr>\n",
       "            <tr>\n",
       "                        <th id=\"T_626f6174_f2fe_11ec_a382_6045bd7774bclevel0_row2\" class=\"row_heading level0 row2\" >10</th>\n",
       "                        <td id=\"T_626f6174_f2fe_11ec_a382_6045bd7774bcrow2_col0\" class=\"data row2 col0\" >1.1e+04</td>\n",
       "                        <td id=\"T_626f6174_f2fe_11ec_a382_6045bd7774bcrow2_col1\" class=\"data row2 col1\" >1.1e+04</td>\n",
       "                        <td id=\"T_626f6174_f2fe_11ec_a382_6045bd7774bcrow2_col2\" class=\"data row2 col2\" >0.113</td>\n",
       "                        <td id=\"T_626f6174_f2fe_11ec_a382_6045bd7774bcrow2_col3\" class=\"data row2 col3\" >0.113</td>\n",
       "            </tr>\n",
       "            <tr>\n",
       "                        <th id=\"T_626f6174_f2fe_11ec_a382_6045bd7774bclevel0_row3\" class=\"row_heading level0 row3\" >15</th>\n",
       "                        <td id=\"T_626f6174_f2fe_11ec_a382_6045bd7774bcrow3_col0\" class=\"data row3 col0\" >1.07e+04</td>\n",
       "                        <td id=\"T_626f6174_f2fe_11ec_a382_6045bd7774bcrow3_col1\" class=\"data row3 col1\" >1.07e+04</td>\n",
       "                        <td id=\"T_626f6174_f2fe_11ec_a382_6045bd7774bcrow3_col2\" class=\"data row3 col2\" >0.0854</td>\n",
       "                        <td id=\"T_626f6174_f2fe_11ec_a382_6045bd7774bcrow3_col3\" class=\"data row3 col3\" >0.0858</td>\n",
       "            </tr>\n",
       "    </tbody></table>"
      ],
      "text/plain": [
       "<pandas.io.formats.style.Styler at 0x7f2ffe96f160>"
      ]
     },
     "metadata": {},
     "output_type": "display_data"
    },
    {
     "name": "stdout",
     "output_type": "stream",
     "text": [
      "[\u001b[1mtardis.simulation.base\u001b[0m][\u001b[1;37mINFO\u001b[0m   ]  \n",
      "\t\n",
      "\tCurrent t_inner = 10638.875 K\n",
      "\tExpected t_inner for next iteration = 10655.125 K\n",
      " (\u001b[1mbase.py\u001b[0m:542)\n"
     ]
    },
    {
     "name": "stdout",
     "output_type": "stream",
     "text": [
      "[\u001b[1mtardis.simulation.base\u001b[0m][\u001b[1;37mINFO\u001b[0m   ]  \n",
      "\t\n",
      "\tStarting iteration 16 of 20 (\u001b[1mbase.py\u001b[0m:378)\n"
     ]
    },
    {
     "name": "stdout",
     "output_type": "stream",
     "text": [
      "[\u001b[1mtardis.simulation.base\u001b[0m][\u001b[1;37mINFO\u001b[0m   ]  \n",
      "\t\n",
      "\tLuminosity emitted   = 1.059e+43 erg / s\n",
      "\tLuminosity absorbed  = 3.445e+42 erg / s\n",
      "\tLuminosity requested = 1.059e+43 erg / s\n",
      " (\u001b[1mbase.py\u001b[0m:547)\n"
     ]
    },
    {
     "name": "stdout",
     "output_type": "stream",
     "text": [
      "[\u001b[1mtardis.simulation.base\u001b[0m][\u001b[1;37mINFO\u001b[0m   ]  \n",
      "\tIteration converged 4/4 consecutive times. (\u001b[1mbase.py\u001b[0m:259)\n"
     ]
    },
    {
     "name": "stdout",
     "output_type": "stream",
     "text": [
      "[\u001b[1mtardis.simulation.base\u001b[0m][\u001b[1;37mINFO\u001b[0m   ]  \n",
      "\t\n",
      "\tPlasma stratification: (\u001b[1mbase.py\u001b[0m:515)\n"
     ]
    },
    {
     "data": {
      "text/html": [
       "<style  type=\"text/css\" >\n",
       "</style><table id=\"T_62eb04d2_f2fe_11ec_a382_6045bd7774bc\" ><thead>    <tr>        <th class=\"index_name level0\" >Shell No.</th>        <th class=\"col_heading level0 col0\" >t_rad</th>        <th class=\"col_heading level0 col1\" >next_t_rad</th>        <th class=\"col_heading level0 col2\" >w</th>        <th class=\"col_heading level0 col3\" >next_w</th>    </tr></thead><tbody>\n",
       "                <tr>\n",
       "                        <th id=\"T_62eb04d2_f2fe_11ec_a382_6045bd7774bclevel0_row0\" class=\"row_heading level0 row0\" >0</th>\n",
       "                        <td id=\"T_62eb04d2_f2fe_11ec_a382_6045bd7774bcrow0_col0\" class=\"data row0 col0\" >1.1e+04</td>\n",
       "                        <td id=\"T_62eb04d2_f2fe_11ec_a382_6045bd7774bcrow0_col1\" class=\"data row0 col1\" >1.1e+04</td>\n",
       "                        <td id=\"T_62eb04d2_f2fe_11ec_a382_6045bd7774bcrow0_col2\" class=\"data row0 col2\" >0.484</td>\n",
       "                        <td id=\"T_62eb04d2_f2fe_11ec_a382_6045bd7774bcrow0_col3\" class=\"data row0 col3\" >0.472</td>\n",
       "            </tr>\n",
       "            <tr>\n",
       "                        <th id=\"T_62eb04d2_f2fe_11ec_a382_6045bd7774bclevel0_row1\" class=\"row_heading level0 row1\" >5</th>\n",
       "                        <td id=\"T_62eb04d2_f2fe_11ec_a382_6045bd7774bcrow1_col0\" class=\"data row1 col0\" >1.13e+04</td>\n",
       "                        <td id=\"T_62eb04d2_f2fe_11ec_a382_6045bd7774bcrow1_col1\" class=\"data row1 col1\" >1.13e+04</td>\n",
       "                        <td id=\"T_62eb04d2_f2fe_11ec_a382_6045bd7774bcrow1_col2\" class=\"data row1 col2\" >0.181</td>\n",
       "                        <td id=\"T_62eb04d2_f2fe_11ec_a382_6045bd7774bcrow1_col3\" class=\"data row1 col3\" >0.177</td>\n",
       "            </tr>\n",
       "            <tr>\n",
       "                        <th id=\"T_62eb04d2_f2fe_11ec_a382_6045bd7774bclevel0_row2\" class=\"row_heading level0 row2\" >10</th>\n",
       "                        <td id=\"T_62eb04d2_f2fe_11ec_a382_6045bd7774bcrow2_col0\" class=\"data row2 col0\" >1.1e+04</td>\n",
       "                        <td id=\"T_62eb04d2_f2fe_11ec_a382_6045bd7774bcrow2_col1\" class=\"data row2 col1\" >1.1e+04</td>\n",
       "                        <td id=\"T_62eb04d2_f2fe_11ec_a382_6045bd7774bcrow2_col2\" class=\"data row2 col2\" >0.113</td>\n",
       "                        <td id=\"T_62eb04d2_f2fe_11ec_a382_6045bd7774bcrow2_col3\" class=\"data row2 col3\" >0.113</td>\n",
       "            </tr>\n",
       "            <tr>\n",
       "                        <th id=\"T_62eb04d2_f2fe_11ec_a382_6045bd7774bclevel0_row3\" class=\"row_heading level0 row3\" >15</th>\n",
       "                        <td id=\"T_62eb04d2_f2fe_11ec_a382_6045bd7774bcrow3_col0\" class=\"data row3 col0\" >1.07e+04</td>\n",
       "                        <td id=\"T_62eb04d2_f2fe_11ec_a382_6045bd7774bcrow3_col1\" class=\"data row3 col1\" >1.06e+04</td>\n",
       "                        <td id=\"T_62eb04d2_f2fe_11ec_a382_6045bd7774bcrow3_col2\" class=\"data row3 col2\" >0.0858</td>\n",
       "                        <td id=\"T_62eb04d2_f2fe_11ec_a382_6045bd7774bcrow3_col3\" class=\"data row3 col3\" >0.0858</td>\n",
       "            </tr>\n",
       "    </tbody></table>"
      ],
      "text/plain": [
       "<pandas.io.formats.style.Styler at 0x7f2ffe9ccee0>"
      ]
     },
     "metadata": {},
     "output_type": "display_data"
    },
    {
     "name": "stdout",
     "output_type": "stream",
     "text": [
      "[\u001b[1mtardis.simulation.base\u001b[0m][\u001b[1;37mINFO\u001b[0m   ]  \n",
      "\t\n",
      "\tCurrent t_inner = 10655.125 K\n",
      "\tExpected t_inner for next iteration = 10655.561 K\n",
      " (\u001b[1mbase.py\u001b[0m:542)\n"
     ]
    },
    {
     "name": "stdout",
     "output_type": "stream",
     "text": [
      "[\u001b[1mtardis.simulation.base\u001b[0m][\u001b[1;37mINFO\u001b[0m   ]  \n",
      "\t\n",
      "\tStarting iteration 17 of 20 (\u001b[1mbase.py\u001b[0m:378)\n"
     ]
    },
    {
     "name": "stdout",
     "output_type": "stream",
     "text": [
      "[\u001b[1mtardis.simulation.base\u001b[0m][\u001b[1;37mINFO\u001b[0m   ]  \n",
      "\t\n",
      "\tLuminosity emitted   = 1.067e+43 erg / s\n",
      "\tLuminosity absorbed  = 3.372e+42 erg / s\n",
      "\tLuminosity requested = 1.059e+43 erg / s\n",
      " (\u001b[1mbase.py\u001b[0m:547)\n"
     ]
    },
    {
     "name": "stdout",
     "output_type": "stream",
     "text": [
      "[\u001b[1mtardis.simulation.base\u001b[0m][\u001b[1;37mINFO\u001b[0m   ]  \n",
      "\t\n",
      "\tPlasma stratification: (\u001b[1mbase.py\u001b[0m:515)\n"
     ]
    },
    {
     "data": {
      "text/html": [
       "<style  type=\"text/css\" >\n",
       "</style><table id=\"T_636424e8_f2fe_11ec_a382_6045bd7774bc\" ><thead>    <tr>        <th class=\"index_name level0\" >Shell No.</th>        <th class=\"col_heading level0 col0\" >t_rad</th>        <th class=\"col_heading level0 col1\" >next_t_rad</th>        <th class=\"col_heading level0 col2\" >w</th>        <th class=\"col_heading level0 col3\" >next_w</th>    </tr></thead><tbody>\n",
       "                <tr>\n",
       "                        <th id=\"T_636424e8_f2fe_11ec_a382_6045bd7774bclevel0_row0\" class=\"row_heading level0 row0\" >0</th>\n",
       "                        <td id=\"T_636424e8_f2fe_11ec_a382_6045bd7774bcrow0_col0\" class=\"data row0 col0\" >1.1e+04</td>\n",
       "                        <td id=\"T_636424e8_f2fe_11ec_a382_6045bd7774bcrow0_col1\" class=\"data row0 col1\" >1.11e+04</td>\n",
       "                        <td id=\"T_636424e8_f2fe_11ec_a382_6045bd7774bcrow0_col2\" class=\"data row0 col2\" >0.472</td>\n",
       "                        <td id=\"T_636424e8_f2fe_11ec_a382_6045bd7774bcrow0_col3\" class=\"data row0 col3\" >0.468</td>\n",
       "            </tr>\n",
       "            <tr>\n",
       "                        <th id=\"T_636424e8_f2fe_11ec_a382_6045bd7774bclevel0_row1\" class=\"row_heading level0 row1\" >5</th>\n",
       "                        <td id=\"T_636424e8_f2fe_11ec_a382_6045bd7774bcrow1_col0\" class=\"data row1 col0\" >1.13e+04</td>\n",
       "                        <td id=\"T_636424e8_f2fe_11ec_a382_6045bd7774bcrow1_col1\" class=\"data row1 col1\" >1.14e+04</td>\n",
       "                        <td id=\"T_636424e8_f2fe_11ec_a382_6045bd7774bcrow1_col2\" class=\"data row1 col2\" >0.177</td>\n",
       "                        <td id=\"T_636424e8_f2fe_11ec_a382_6045bd7774bcrow1_col3\" class=\"data row1 col3\" >0.175</td>\n",
       "            </tr>\n",
       "            <tr>\n",
       "                        <th id=\"T_636424e8_f2fe_11ec_a382_6045bd7774bclevel0_row2\" class=\"row_heading level0 row2\" >10</th>\n",
       "                        <td id=\"T_636424e8_f2fe_11ec_a382_6045bd7774bcrow2_col0\" class=\"data row2 col0\" >1.1e+04</td>\n",
       "                        <td id=\"T_636424e8_f2fe_11ec_a382_6045bd7774bcrow2_col1\" class=\"data row2 col1\" >1.11e+04</td>\n",
       "                        <td id=\"T_636424e8_f2fe_11ec_a382_6045bd7774bcrow2_col2\" class=\"data row2 col2\" >0.113</td>\n",
       "                        <td id=\"T_636424e8_f2fe_11ec_a382_6045bd7774bcrow2_col3\" class=\"data row2 col3\" >0.11</td>\n",
       "            </tr>\n",
       "            <tr>\n",
       "                        <th id=\"T_636424e8_f2fe_11ec_a382_6045bd7774bclevel0_row3\" class=\"row_heading level0 row3\" >15</th>\n",
       "                        <td id=\"T_636424e8_f2fe_11ec_a382_6045bd7774bcrow3_col0\" class=\"data row3 col0\" >1.06e+04</td>\n",
       "                        <td id=\"T_636424e8_f2fe_11ec_a382_6045bd7774bcrow3_col1\" class=\"data row3 col1\" >1.08e+04</td>\n",
       "                        <td id=\"T_636424e8_f2fe_11ec_a382_6045bd7774bcrow3_col2\" class=\"data row3 col2\" >0.0858</td>\n",
       "                        <td id=\"T_636424e8_f2fe_11ec_a382_6045bd7774bcrow3_col3\" class=\"data row3 col3\" >0.0816</td>\n",
       "            </tr>\n",
       "    </tbody></table>"
      ],
      "text/plain": [
       "<pandas.io.formats.style.Styler at 0x7f2ffe9775e0>"
      ]
     },
     "metadata": {},
     "output_type": "display_data"
    },
    {
     "name": "stdout",
     "output_type": "stream",
     "text": [
      "[\u001b[1mtardis.simulation.base\u001b[0m][\u001b[1;37mINFO\u001b[0m   ]  \n",
      "\t\n",
      "\tCurrent t_inner = 10655.561 K\n",
      "\tExpected t_inner for next iteration = 10636.536 K\n",
      " (\u001b[1mbase.py\u001b[0m:542)\n"
     ]
    },
    {
     "name": "stdout",
     "output_type": "stream",
     "text": [
      "[\u001b[1mtardis.simulation.base\u001b[0m][\u001b[1;37mINFO\u001b[0m   ]  \n",
      "\t\n",
      "\tStarting iteration 18 of 20 (\u001b[1mbase.py\u001b[0m:378)\n"
     ]
    },
    {
     "name": "stdout",
     "output_type": "stream",
     "text": [
      "[\u001b[1mtardis.simulation.base\u001b[0m][\u001b[1;37mINFO\u001b[0m   ]  \n",
      "\t\n",
      "\tLuminosity emitted   = 1.057e+43 erg / s\n",
      "\tLuminosity absorbed  = 3.365e+42 erg / s\n",
      "\tLuminosity requested = 1.059e+43 erg / s\n",
      " (\u001b[1mbase.py\u001b[0m:547)\n"
     ]
    },
    {
     "name": "stdout",
     "output_type": "stream",
     "text": [
      "[\u001b[1mtardis.simulation.base\u001b[0m][\u001b[1;37mINFO\u001b[0m   ]  \n",
      "\tIteration converged 1/4 consecutive times. (\u001b[1mbase.py\u001b[0m:259)\n"
     ]
    },
    {
     "name": "stdout",
     "output_type": "stream",
     "text": [
      "[\u001b[1mtardis.simulation.base\u001b[0m][\u001b[1;37mINFO\u001b[0m   ]  \n",
      "\t\n",
      "\tPlasma stratification: (\u001b[1mbase.py\u001b[0m:515)\n"
     ]
    },
    {
     "data": {
      "text/html": [
       "<style  type=\"text/css\" >\n",
       "</style><table id=\"T_63ded580_f2fe_11ec_a382_6045bd7774bc\" ><thead>    <tr>        <th class=\"index_name level0\" >Shell No.</th>        <th class=\"col_heading level0 col0\" >t_rad</th>        <th class=\"col_heading level0 col1\" >next_t_rad</th>        <th class=\"col_heading level0 col2\" >w</th>        <th class=\"col_heading level0 col3\" >next_w</th>    </tr></thead><tbody>\n",
       "                <tr>\n",
       "                        <th id=\"T_63ded580_f2fe_11ec_a382_6045bd7774bclevel0_row0\" class=\"row_heading level0 row0\" >0</th>\n",
       "                        <td id=\"T_63ded580_f2fe_11ec_a382_6045bd7774bcrow0_col0\" class=\"data row0 col0\" >1.11e+04</td>\n",
       "                        <td id=\"T_63ded580_f2fe_11ec_a382_6045bd7774bcrow0_col1\" class=\"data row0 col1\" >1.11e+04</td>\n",
       "                        <td id=\"T_63ded580_f2fe_11ec_a382_6045bd7774bcrow0_col2\" class=\"data row0 col2\" >0.468</td>\n",
       "                        <td id=\"T_63ded580_f2fe_11ec_a382_6045bd7774bcrow0_col3\" class=\"data row0 col3\" >0.464</td>\n",
       "            </tr>\n",
       "            <tr>\n",
       "                        <th id=\"T_63ded580_f2fe_11ec_a382_6045bd7774bclevel0_row1\" class=\"row_heading level0 row1\" >5</th>\n",
       "                        <td id=\"T_63ded580_f2fe_11ec_a382_6045bd7774bcrow1_col0\" class=\"data row1 col0\" >1.14e+04</td>\n",
       "                        <td id=\"T_63ded580_f2fe_11ec_a382_6045bd7774bcrow1_col1\" class=\"data row1 col1\" >1.13e+04</td>\n",
       "                        <td id=\"T_63ded580_f2fe_11ec_a382_6045bd7774bcrow1_col2\" class=\"data row1 col2\" >0.175</td>\n",
       "                        <td id=\"T_63ded580_f2fe_11ec_a382_6045bd7774bcrow1_col3\" class=\"data row1 col3\" >0.177</td>\n",
       "            </tr>\n",
       "            <tr>\n",
       "                        <th id=\"T_63ded580_f2fe_11ec_a382_6045bd7774bclevel0_row2\" class=\"row_heading level0 row2\" >10</th>\n",
       "                        <td id=\"T_63ded580_f2fe_11ec_a382_6045bd7774bcrow2_col0\" class=\"data row2 col0\" >1.11e+04</td>\n",
       "                        <td id=\"T_63ded580_f2fe_11ec_a382_6045bd7774bcrow2_col1\" class=\"data row2 col1\" >1.1e+04</td>\n",
       "                        <td id=\"T_63ded580_f2fe_11ec_a382_6045bd7774bcrow2_col2\" class=\"data row2 col2\" >0.11</td>\n",
       "                        <td id=\"T_63ded580_f2fe_11ec_a382_6045bd7774bcrow2_col3\" class=\"data row2 col3\" >0.113</td>\n",
       "            </tr>\n",
       "            <tr>\n",
       "                        <th id=\"T_63ded580_f2fe_11ec_a382_6045bd7774bclevel0_row3\" class=\"row_heading level0 row3\" >15</th>\n",
       "                        <td id=\"T_63ded580_f2fe_11ec_a382_6045bd7774bcrow3_col0\" class=\"data row3 col0\" >1.08e+04</td>\n",
       "                        <td id=\"T_63ded580_f2fe_11ec_a382_6045bd7774bcrow3_col1\" class=\"data row3 col1\" >1.07e+04</td>\n",
       "                        <td id=\"T_63ded580_f2fe_11ec_a382_6045bd7774bcrow3_col2\" class=\"data row3 col2\" >0.0816</td>\n",
       "                        <td id=\"T_63ded580_f2fe_11ec_a382_6045bd7774bcrow3_col3\" class=\"data row3 col3\" >0.0848</td>\n",
       "            </tr>\n",
       "    </tbody></table>"
      ],
      "text/plain": [
       "<pandas.io.formats.style.Styler at 0x7f2ffe977460>"
      ]
     },
     "metadata": {},
     "output_type": "display_data"
    },
    {
     "name": "stdout",
     "output_type": "stream",
     "text": [
      "[\u001b[1mtardis.simulation.base\u001b[0m][\u001b[1;37mINFO\u001b[0m   ]  \n",
      "\t\n",
      "\tCurrent t_inner = 10636.536 K\n",
      "\tExpected t_inner for next iteration = 10641.692 K\n",
      " (\u001b[1mbase.py\u001b[0m:542)\n"
     ]
    },
    {
     "name": "stdout",
     "output_type": "stream",
     "text": [
      "[\u001b[1mtardis.simulation.base\u001b[0m][\u001b[1;37mINFO\u001b[0m   ]  \n",
      "\t\n",
      "\tStarting iteration 19 of 20 (\u001b[1mbase.py\u001b[0m:378)\n"
     ]
    },
    {
     "name": "stdout",
     "output_type": "stream",
     "text": [
      "[\u001b[1mtardis.simulation.base\u001b[0m][\u001b[1;37mINFO\u001b[0m   ]  \n",
      "\t\n",
      "\tLuminosity emitted   = 1.056e+43 erg / s\n",
      "\tLuminosity absorbed  = 3.405e+42 erg / s\n",
      "\tLuminosity requested = 1.059e+43 erg / s\n",
      " (\u001b[1mbase.py\u001b[0m:547)\n"
     ]
    },
    {
     "name": "stdout",
     "output_type": "stream",
     "text": [
      "[\u001b[1mtardis.simulation.base\u001b[0m][\u001b[1;37mINFO\u001b[0m   ]  \n",
      "\tIteration converged 2/4 consecutive times. (\u001b[1mbase.py\u001b[0m:259)\n"
     ]
    },
    {
     "name": "stdout",
     "output_type": "stream",
     "text": [
      "[\u001b[1mtardis.simulation.base\u001b[0m][\u001b[1;37mINFO\u001b[0m   ]  \n",
      "\t\n",
      "\tPlasma stratification: (\u001b[1mbase.py\u001b[0m:515)\n"
     ]
    },
    {
     "data": {
      "text/html": [
       "<style  type=\"text/css\" >\n",
       "</style><table id=\"T_645a7cee_f2fe_11ec_a382_6045bd7774bc\" ><thead>    <tr>        <th class=\"index_name level0\" >Shell No.</th>        <th class=\"col_heading level0 col0\" >t_rad</th>        <th class=\"col_heading level0 col1\" >next_t_rad</th>        <th class=\"col_heading level0 col2\" >w</th>        <th class=\"col_heading level0 col3\" >next_w</th>    </tr></thead><tbody>\n",
       "                <tr>\n",
       "                        <th id=\"T_645a7cee_f2fe_11ec_a382_6045bd7774bclevel0_row0\" class=\"row_heading level0 row0\" >0</th>\n",
       "                        <td id=\"T_645a7cee_f2fe_11ec_a382_6045bd7774bcrow0_col0\" class=\"data row0 col0\" >1.11e+04</td>\n",
       "                        <td id=\"T_645a7cee_f2fe_11ec_a382_6045bd7774bcrow0_col1\" class=\"data row0 col1\" >1.11e+04</td>\n",
       "                        <td id=\"T_645a7cee_f2fe_11ec_a382_6045bd7774bcrow0_col2\" class=\"data row0 col2\" >0.464</td>\n",
       "                        <td id=\"T_645a7cee_f2fe_11ec_a382_6045bd7774bcrow0_col3\" class=\"data row0 col3\" >0.466</td>\n",
       "            </tr>\n",
       "            <tr>\n",
       "                        <th id=\"T_645a7cee_f2fe_11ec_a382_6045bd7774bclevel0_row1\" class=\"row_heading level0 row1\" >5</th>\n",
       "                        <td id=\"T_645a7cee_f2fe_11ec_a382_6045bd7774bcrow1_col0\" class=\"data row1 col0\" >1.13e+04</td>\n",
       "                        <td id=\"T_645a7cee_f2fe_11ec_a382_6045bd7774bcrow1_col1\" class=\"data row1 col1\" >1.13e+04</td>\n",
       "                        <td id=\"T_645a7cee_f2fe_11ec_a382_6045bd7774bcrow1_col2\" class=\"data row1 col2\" >0.177</td>\n",
       "                        <td id=\"T_645a7cee_f2fe_11ec_a382_6045bd7774bcrow1_col3\" class=\"data row1 col3\" >0.177</td>\n",
       "            </tr>\n",
       "            <tr>\n",
       "                        <th id=\"T_645a7cee_f2fe_11ec_a382_6045bd7774bclevel0_row2\" class=\"row_heading level0 row2\" >10</th>\n",
       "                        <td id=\"T_645a7cee_f2fe_11ec_a382_6045bd7774bcrow2_col0\" class=\"data row2 col0\" >1.1e+04</td>\n",
       "                        <td id=\"T_645a7cee_f2fe_11ec_a382_6045bd7774bcrow2_col1\" class=\"data row2 col1\" >1.11e+04</td>\n",
       "                        <td id=\"T_645a7cee_f2fe_11ec_a382_6045bd7774bcrow2_col2\" class=\"data row2 col2\" >0.113</td>\n",
       "                        <td id=\"T_645a7cee_f2fe_11ec_a382_6045bd7774bcrow2_col3\" class=\"data row2 col3\" >0.111</td>\n",
       "            </tr>\n",
       "            <tr>\n",
       "                        <th id=\"T_645a7cee_f2fe_11ec_a382_6045bd7774bclevel0_row3\" class=\"row_heading level0 row3\" >15</th>\n",
       "                        <td id=\"T_645a7cee_f2fe_11ec_a382_6045bd7774bcrow3_col0\" class=\"data row3 col0\" >1.07e+04</td>\n",
       "                        <td id=\"T_645a7cee_f2fe_11ec_a382_6045bd7774bcrow3_col1\" class=\"data row3 col1\" >1.07e+04</td>\n",
       "                        <td id=\"T_645a7cee_f2fe_11ec_a382_6045bd7774bcrow3_col2\" class=\"data row3 col2\" >0.0848</td>\n",
       "                        <td id=\"T_645a7cee_f2fe_11ec_a382_6045bd7774bcrow3_col3\" class=\"data row3 col3\" >0.0853</td>\n",
       "            </tr>\n",
       "    </tbody></table>"
      ],
      "text/plain": [
       "<pandas.io.formats.style.Styler at 0x7f2ffe9cc280>"
      ]
     },
     "metadata": {},
     "output_type": "display_data"
    },
    {
     "name": "stdout",
     "output_type": "stream",
     "text": [
      "[\u001b[1mtardis.simulation.base\u001b[0m][\u001b[1;37mINFO\u001b[0m   ]  \n",
      "\t\n",
      "\tCurrent t_inner = 10641.692 K\n",
      "\tExpected t_inner for next iteration = 10650.463 K\n",
      " (\u001b[1mbase.py\u001b[0m:542)\n"
     ]
    },
    {
     "name": "stdout",
     "output_type": "stream",
     "text": [
      "[\u001b[1mtardis.simulation.base\u001b[0m][\u001b[1;37mINFO\u001b[0m   ]  \n",
      "\t\n",
      "\tStarting iteration 20 of 20 (\u001b[1mbase.py\u001b[0m:378)\n"
     ]
    },
    {
     "name": "stdout",
     "output_type": "stream",
     "text": [
      "[\u001b[1mtardis.simulation.base\u001b[0m][\u001b[1;37mINFO\u001b[0m   ]  \n",
      "\t\n",
      "\tLuminosity emitted   = 1.061e+43 erg / s\n",
      "\tLuminosity absorbed  = 3.401e+42 erg / s\n",
      "\tLuminosity requested = 1.059e+43 erg / s\n",
      " (\u001b[1mbase.py\u001b[0m:547)\n"
     ]
    },
    {
     "name": "stdout",
     "output_type": "stream",
     "text": [
      "[\u001b[1mtardis.simulation.base\u001b[0m][\u001b[1;37mINFO\u001b[0m   ]  \n",
      "\t\n",
      "\tSimulation finished in 20 iterations \n",
      "\tSimulation took 47.79 s\n",
      " (\u001b[1mbase.py\u001b[0m:468)\n"
     ]
    }
   ],
   "source": [
    "# Running the simulation from the config\n",
    "\n",
    "sim = run_tardis(config, show_convergence_plots=False, show_progress_bars=False)"
   ]
  },
  {
   "cell_type": "markdown",
   "id": "532bfafc",
   "metadata": {},
   "source": [
    "Now, the `tracked` properties can be accessed via the `rpacket_tracker` attribute of the `sim.runner` object. "
   ]
  },
  {
   "cell_type": "code",
   "execution_count": 8,
   "id": "f8b3424f",
   "metadata": {
    "execution": {
     "iopub.execute_input": "2022-06-23T14:11:43.500271Z",
     "iopub.status.busy": "2022-06-23T14:11:43.499768Z",
     "iopub.status.idle": "2022-06-23T14:11:43.504234Z",
     "shell.execute_reply": "2022-06-23T14:11:43.503624Z"
    }
   },
   "outputs": [
    {
     "data": {
      "text/plain": [
       "numba.typed.typedlist.List"
      ]
     },
     "execution_count": 8,
     "metadata": {},
     "output_type": "execute_result"
    }
   ],
   "source": [
    "type(sim.runner.rpacket_tracker)"
   ]
  },
  {
   "cell_type": "markdown",
   "id": "4771d92a",
   "metadata": {},
   "source": [
    "It can be seen from the above code, that the `sim.runner.rpacket_tracker` is an instance of the `List` specifically *Numba Typed List*. The `RPacketCollection` class has the following structure for the properties : {More information in the **TARDIS API** for `RPacketCollection` class}"
   ]
  },
  {
   "cell_type": "markdown",
   "id": "ce587807",
   "metadata": {},
   "source": [
    "```python\n",
    "# Basic structure for the RPacketCollection Class\n",
    "class RPacketCollection:\n",
    "   # Properties\n",
    "    index\n",
    "    seed\n",
    "    status\n",
    "    r\n",
    "    nu\n",
    "    mu\n",
    "    energy\n",
    "    shell_id\n",
    "```"
   ]
  },
  {
   "cell_type": "code",
   "execution_count": 9,
   "id": "a3ea2f54",
   "metadata": {
    "execution": {
     "iopub.execute_input": "2022-06-23T14:11:43.507631Z",
     "iopub.status.busy": "2022-06-23T14:11:43.507260Z",
     "iopub.status.idle": "2022-06-23T14:11:43.553514Z",
     "shell.execute_reply": "2022-06-23T14:11:43.552772Z"
    }
   },
   "outputs": [
    {
     "data": {
      "text/plain": [
       "100000"
      ]
     },
     "execution_count": 9,
     "metadata": {},
     "output_type": "execute_result"
    }
   ],
   "source": [
    "len(sim.runner.rpacket_tracker)"
   ]
  },
  {
   "cell_type": "markdown",
   "id": "411f2ef9",
   "metadata": {},
   "source": [
    "To access these different properties, we may consider the following examples for the `rpacket_tracker`:\n",
    "<br>In this Example, we are trying to access the properties of the packet at index `10`.<br>In a similar way, we can check for any property for any packet in the range of packets for the last iteration."
   ]
  },
  {
   "cell_type": "markdown",
   "id": "a4772b00",
   "metadata": {},
   "source": [
    "- Accessing the `index` property for the packet {`10`}:"
   ]
  },
  {
   "cell_type": "code",
   "execution_count": 10,
   "id": "de7b8877",
   "metadata": {
    "execution": {
     "iopub.execute_input": "2022-06-23T14:11:43.556557Z",
     "iopub.status.busy": "2022-06-23T14:11:43.556306Z",
     "iopub.status.idle": "2022-06-23T14:11:44.044860Z",
     "shell.execute_reply": "2022-06-23T14:11:44.044156Z"
    }
   },
   "outputs": [
    {
     "data": {
      "text/plain": [
       "10"
      ]
     },
     "execution_count": 10,
     "metadata": {},
     "output_type": "execute_result"
    }
   ],
   "source": [
    "sim.runner.rpacket_tracker[10].index"
   ]
  },
  {
   "cell_type": "markdown",
   "id": "d81fbbf7",
   "metadata": {},
   "source": [
    "- Accessing the `seed` property for the packet {`10`}:"
   ]
  },
  {
   "cell_type": "code",
   "execution_count": 11,
   "id": "39e2dbd2",
   "metadata": {
    "execution": {
     "iopub.execute_input": "2022-06-23T14:11:44.048087Z",
     "iopub.status.busy": "2022-06-23T14:11:44.047532Z",
     "iopub.status.idle": "2022-06-23T14:11:44.051945Z",
     "shell.execute_reply": "2022-06-23T14:11:44.051345Z"
    }
   },
   "outputs": [
    {
     "data": {
      "text/plain": [
       "2729103521"
      ]
     },
     "execution_count": 11,
     "metadata": {},
     "output_type": "execute_result"
    }
   ],
   "source": [
    "sim.runner.rpacket_tracker[10].seed"
   ]
  },
  {
   "cell_type": "markdown",
   "id": "7afe2110",
   "metadata": {},
   "source": [
    "- Accessing the `status` property for the packet {`10`}:"
   ]
  },
  {
   "cell_type": "code",
   "execution_count": 12,
   "id": "e82427ea",
   "metadata": {
    "execution": {
     "iopub.execute_input": "2022-06-23T14:11:44.055339Z",
     "iopub.status.busy": "2022-06-23T14:11:44.054965Z",
     "iopub.status.idle": "2022-06-23T14:11:44.059527Z",
     "shell.execute_reply": "2022-06-23T14:11:44.058939Z"
    }
   },
   "outputs": [
    {
     "data": {
      "text/plain": [
       "array([0, 0, 0, 0, 0, 0, 0, 0, 0, 0, 0, 0, 0, 0, 0, 0, 0, 0, 0, 0, 0, 0,\n",
       "       0, 0, 0, 0, 0, 0, 0, 0, 0, 0, 0, 0, 0, 0, 0, 0, 0, 0, 0, 0, 0, 0,\n",
       "       0, 0, 0, 0, 0, 0, 0, 0, 1])"
      ]
     },
     "execution_count": 12,
     "metadata": {},
     "output_type": "execute_result"
    }
   ],
   "source": [
    "sim.runner.rpacket_tracker[10].status"
   ]
  },
  {
   "cell_type": "markdown",
   "id": "ea308a55",
   "metadata": {},
   "source": [
    "Thus, all other properties {`r`, `nu`, `mu`, `energy`, `shell_id`} can be accessed accordingly."
   ]
  },
  {
   "cell_type": "markdown",
   "id": "c83dd906",
   "metadata": {},
   "source": [
    "We can also see the total number of interactions of index `10` packet under went, with the following example:"
   ]
  },
  {
   "cell_type": "code",
   "execution_count": 13,
   "id": "090b1517",
   "metadata": {
    "execution": {
     "iopub.execute_input": "2022-06-23T14:11:44.062825Z",
     "iopub.status.busy": "2022-06-23T14:11:44.062611Z",
     "iopub.status.idle": "2022-06-23T14:11:44.066758Z",
     "shell.execute_reply": "2022-06-23T14:11:44.066157Z"
    }
   },
   "outputs": [
    {
     "data": {
      "text/plain": [
       "53"
      ]
     },
     "execution_count": 13,
     "metadata": {},
     "output_type": "execute_result"
    }
   ],
   "source": [
    "len(sim.runner.rpacket_tracker[10].shell_id)"
   ]
  },
  {
   "cell_type": "markdown",
   "id": "9136fba1",
   "metadata": {},
   "source": [
    "<div class=\"alert alert-warning\">\n",
    "\n",
    "Warning\n",
    "\n",
    "If we  try to access `sim.runner.rpacket_tracker` property when we have the `track_rpacket` property in the `tracking` subsection of `montecarlo` config, turned off as follows `config[\"montecarlo\"][\"tracking\"][\"track_rpacket\"] = False`, it will return `None`.  Error will be raised if we try to access the properties i.e. `seed`, `index`, etc.\n",
    "</div>"
   ]
  },
  {
   "cell_type": "markdown",
   "id": "afa3c7f4",
   "metadata": {},
   "source": [
    "<div class=\"alert alert-info\">\n",
    "\n",
    "Note\n",
    "    \n",
    "When we initialise the `RPacketCollection()` class, the properties arrays {`index`, `seed`, `status`, etc} are allocated certain length based on the `initial_array_length` parameter that can be set via the `initial_array_length` property under `montecarlo -> tracking` section of the configuration. The default size of the array is `10`. This variable is important as the number of interactions a packet may have is variable, thus we need to allocate space dynamically. This variable is used to compute the size and expand the array such that the properties are able to hold these values for the packet interaction. Higher number, allocates more space initially leading to lesser times the arrays expands and vice versa. It can be set in the following manner `config[\"montecarlo\"][\"tracking\"][\"initial_array_length\"] = {value}`.\n",
    "</div>"
   ]
  }
 ],
 "metadata": {
  "kernelspec": {
   "display_name": "Python 3 (ipykernel)",
   "language": "python",
   "name": "python3"
  },
  "language_info": {
   "codemirror_mode": {
    "name": "ipython",
    "version": 3
   },
   "file_extension": ".py",
   "mimetype": "text/x-python",
   "name": "python",
   "nbconvert_exporter": "python",
   "pygments_lexer": "ipython3",
   "version": "3.8.13"
  },
  "widgets": {
   "application/vnd.jupyter.widget-state+json": {
    "state": {
     "02c80779e7ee4585822064b463db6642": {
      "model_module": "@jupyter-widgets/output",
      "model_module_version": "1.0.0",
      "model_name": "OutputModel",
      "state": {
       "_dom_classes": [],
       "_model_module": "@jupyter-widgets/output",
       "_model_module_version": "1.0.0",
       "_model_name": "OutputModel",
       "_view_count": null,
       "_view_module": "@jupyter-widgets/output",
       "_view_module_version": "1.0.0",
       "_view_name": "OutputView",
       "layout": "IPY_MODEL_e93a123d47e447279f6407a0805cf417",
       "msg_id": "",
       "outputs": []
      }
     },
     "05cb12d3e36047cba870d62b483b489a": {
      "model_module": "@jupyter-widgets/base",
      "model_module_version": "1.2.0",
      "model_name": "LayoutModel",
      "state": {
       "_model_module": "@jupyter-widgets/base",
       "_model_module_version": "1.2.0",
       "_model_name": "LayoutModel",
       "_view_count": null,
       "_view_module": "@jupyter-widgets/base",
       "_view_module_version": "1.2.0",
       "_view_name": "LayoutView",
       "align_content": null,
       "align_items": null,
       "align_self": null,
       "border": null,
       "bottom": null,
       "display": null,
       "flex": null,
       "flex_flow": null,
       "grid_area": null,
       "grid_auto_columns": null,
       "grid_auto_flow": null,
       "grid_auto_rows": null,
       "grid_column": null,
       "grid_gap": null,
       "grid_row": null,
       "grid_template_areas": null,
       "grid_template_columns": null,
       "grid_template_rows": null,
       "height": null,
       "justify_content": null,
       "justify_items": null,
       "left": null,
       "margin": null,
       "max_height": null,
       "max_width": null,
       "min_height": null,
       "min_width": null,
       "object_fit": null,
       "object_position": null,
       "order": null,
       "overflow": null,
       "overflow_x": null,
       "overflow_y": null,
       "padding": null,
       "right": null,
       "top": null,
       "visibility": null,
       "width": "20px"
      }
     },
     "171049b8ffbd4770a2dd50f10789b5b2": {
      "model_module": "@jupyter-widgets/base",
      "model_module_version": "1.2.0",
      "model_name": "LayoutModel",
      "state": {
       "_model_module": "@jupyter-widgets/base",
       "_model_module_version": "1.2.0",
       "_model_name": "LayoutModel",
       "_view_count": null,
       "_view_module": "@jupyter-widgets/base",
       "_view_module_version": "1.2.0",
       "_view_name": "LayoutView",
       "align_content": null,
       "align_items": null,
       "align_self": null,
       "border": null,
       "bottom": null,
       "display": null,
       "flex": null,
       "flex_flow": null,
       "grid_area": null,
       "grid_auto_columns": null,
       "grid_auto_flow": null,
       "grid_auto_rows": null,
       "grid_column": null,
       "grid_gap": null,
       "grid_row": null,
       "grid_template_areas": null,
       "grid_template_columns": null,
       "grid_template_rows": null,
       "height": null,
       "justify_content": null,
       "justify_items": null,
       "left": null,
       "margin": null,
       "max_height": null,
       "max_width": null,
       "min_height": null,
       "min_width": null,
       "object_fit": null,
       "object_position": null,
       "order": null,
       "overflow": null,
       "overflow_x": null,
       "overflow_y": null,
       "padding": null,
       "right": null,
       "top": null,
       "visibility": null,
       "width": null
      }
     },
     "28d5a363667d40618fdba4084b08fa9d": {
      "model_module": "@jupyter-widgets/controls",
      "model_module_version": "1.5.0",
      "model_name": "DescriptionStyleModel",
      "state": {
       "_model_module": "@jupyter-widgets/controls",
       "_model_module_version": "1.5.0",
       "_model_name": "DescriptionStyleModel",
       "_view_count": null,
       "_view_module": "@jupyter-widgets/base",
       "_view_module_version": "1.2.0",
       "_view_name": "StyleView",
       "description_width": ""
      }
     },
     "2e8cfd990de441d188ed07490688140a": {
      "model_module": "@jupyter-widgets/controls",
      "model_module_version": "1.5.0",
      "model_name": "ProgressStyleModel",
      "state": {
       "_model_module": "@jupyter-widgets/controls",
       "_model_module_version": "1.5.0",
       "_model_name": "ProgressStyleModel",
       "_view_count": null,
       "_view_module": "@jupyter-widgets/base",
       "_view_module_version": "1.2.0",
       "_view_name": "StyleView",
       "bar_color": null,
       "description_width": ""
      }
     },
     "3146e0055ec94b18a49d3a0c3df0090c": {
      "model_module": "@jupyter-widgets/controls",
      "model_module_version": "1.5.0",
      "model_name": "ProgressStyleModel",
      "state": {
       "_model_module": "@jupyter-widgets/controls",
       "_model_module_version": "1.5.0",
       "_model_name": "ProgressStyleModel",
       "_view_count": null,
       "_view_module": "@jupyter-widgets/base",
       "_view_module_version": "1.2.0",
       "_view_name": "StyleView",
       "bar_color": null,
       "description_width": ""
      }
     },
     "32576edb88294357bf93d1f419349f13": {
      "model_module": "@jupyter-widgets/controls",
      "model_module_version": "1.5.0",
      "model_name": "DescriptionStyleModel",
      "state": {
       "_model_module": "@jupyter-widgets/controls",
       "_model_module_version": "1.5.0",
       "_model_name": "DescriptionStyleModel",
       "_view_count": null,
       "_view_module": "@jupyter-widgets/base",
       "_view_module_version": "1.2.0",
       "_view_name": "StyleView",
       "description_width": ""
      }
     },
     "3449698523394ed5b4a771df877ee521": {
      "model_module": "@jupyter-widgets/controls",
      "model_module_version": "1.5.0",
      "model_name": "HTMLModel",
      "state": {
       "_dom_classes": [],
       "_model_module": "@jupyter-widgets/controls",
       "_model_module_version": "1.5.0",
       "_model_name": "HTMLModel",
       "_view_count": null,
       "_view_module": "@jupyter-widgets/controls",
       "_view_module_version": "1.5.0",
       "_view_name": "HTMLView",
       "description": "",
       "description_tooltip": null,
       "layout": "IPY_MODEL_b6d547661d8c43c28dc990f8f551cc66",
       "placeholder": "​",
       "style": "IPY_MODEL_28d5a363667d40618fdba4084b08fa9d",
       "value": "0/? [00:00&lt;?, ?it/s]"
      }
     },
     "61f7d4d53603409c835046b3bb9c32ed": {
      "model_module": "@jupyter-widgets/base",
      "model_module_version": "1.2.0",
      "model_name": "LayoutModel",
      "state": {
       "_model_module": "@jupyter-widgets/base",
       "_model_module_version": "1.2.0",
       "_model_name": "LayoutModel",
       "_view_count": null,
       "_view_module": "@jupyter-widgets/base",
       "_view_module_version": "1.2.0",
       "_view_name": "LayoutView",
       "align_content": null,
       "align_items": null,
       "align_self": null,
       "border": null,
       "bottom": null,
       "display": null,
       "flex": null,
       "flex_flow": null,
       "grid_area": null,
       "grid_auto_columns": null,
       "grid_auto_flow": null,
       "grid_auto_rows": null,
       "grid_column": null,
       "grid_gap": null,
       "grid_row": null,
       "grid_template_areas": null,
       "grid_template_columns": null,
       "grid_template_rows": null,
       "height": null,
       "justify_content": null,
       "justify_items": null,
       "left": null,
       "margin": null,
       "max_height": null,
       "max_width": null,
       "min_height": null,
       "min_width": null,
       "object_fit": null,
       "object_position": null,
       "order": null,
       "overflow": null,
       "overflow_x": null,
       "overflow_y": null,
       "padding": null,
       "right": null,
       "top": null,
       "visibility": null,
       "width": null
      }
     },
     "6849b6b11b54484e9a874d3d3619a25c": {
      "model_module": "@jupyter-widgets/output",
      "model_module_version": "1.0.0",
      "model_name": "OutputModel",
      "state": {
       "_dom_classes": [],
       "_model_module": "@jupyter-widgets/output",
       "_model_module_version": "1.0.0",
       "_model_name": "OutputModel",
       "_view_count": null,
       "_view_module": "@jupyter-widgets/output",
       "_view_module_version": "1.0.0",
       "_view_name": "OutputView",
       "layout": "IPY_MODEL_61f7d4d53603409c835046b3bb9c32ed",
       "msg_id": "",
       "outputs": []
      }
     },
     "6a3bbd924b3c461084282ff463aea03b": {
      "model_module": "@jupyter-widgets/controls",
      "model_module_version": "1.5.0",
      "model_name": "FloatProgressModel",
      "state": {
       "_dom_classes": [],
       "_model_module": "@jupyter-widgets/controls",
       "_model_module_version": "1.5.0",
       "_model_name": "FloatProgressModel",
       "_view_count": null,
       "_view_module": "@jupyter-widgets/controls",
       "_view_module_version": "1.5.0",
       "_view_name": "ProgressView",
       "bar_style": "info",
       "description": "",
       "description_tooltip": null,
       "layout": "IPY_MODEL_05cb12d3e36047cba870d62b483b489a",
       "max": 1.0,
       "min": 0.0,
       "orientation": "horizontal",
       "style": "IPY_MODEL_2e8cfd990de441d188ed07490688140a",
       "value": 1.0
      }
     },
     "705525e44e8548058458da8060e038b2": {
      "model_module": "@jupyter-widgets/controls",
      "model_module_version": "1.5.0",
      "model_name": "HBoxModel",
      "state": {
       "_dom_classes": [],
       "_model_module": "@jupyter-widgets/controls",
       "_model_module_version": "1.5.0",
       "_model_name": "HBoxModel",
       "_view_count": null,
       "_view_module": "@jupyter-widgets/controls",
       "_view_module_version": "1.5.0",
       "_view_name": "HBoxView",
       "box_style": "",
       "children": [
        "IPY_MODEL_b01c1cd3791045ae99a4dcacbf65a19f",
        "IPY_MODEL_be83cc62b3e143eaad66e0feed2d9744",
        "IPY_MODEL_3449698523394ed5b4a771df877ee521"
       ],
       "layout": "IPY_MODEL_90edec66fffa4df496fa360c8c52fac2"
      }
     },
     "77044ddc0b9c4bca8966ac1e0f79ead0": {
      "model_module": "@jupyter-widgets/controls",
      "model_module_version": "1.5.0",
      "model_name": "DescriptionStyleModel",
      "state": {
       "_model_module": "@jupyter-widgets/controls",
       "_model_module_version": "1.5.0",
       "_model_name": "DescriptionStyleModel",
       "_view_count": null,
       "_view_module": "@jupyter-widgets/base",
       "_view_module_version": "1.2.0",
       "_view_name": "StyleView",
       "description_width": ""
      }
     },
     "8272121214984414867a9a1e0d9b28e7": {
      "model_module": "@jupyter-widgets/base",
      "model_module_version": "1.2.0",
      "model_name": "LayoutModel",
      "state": {
       "_model_module": "@jupyter-widgets/base",
       "_model_module_version": "1.2.0",
       "_model_name": "LayoutModel",
       "_view_count": null,
       "_view_module": "@jupyter-widgets/base",
       "_view_module_version": "1.2.0",
       "_view_name": "LayoutView",
       "align_content": null,
       "align_items": null,
       "align_self": null,
       "border": null,
       "bottom": null,
       "display": null,
       "flex": null,
       "flex_flow": null,
       "grid_area": null,
       "grid_auto_columns": null,
       "grid_auto_flow": null,
       "grid_auto_rows": null,
       "grid_column": null,
       "grid_gap": null,
       "grid_row": null,
       "grid_template_areas": null,
       "grid_template_columns": null,
       "grid_template_rows": null,
       "height": null,
       "justify_content": null,
       "justify_items": null,
       "left": null,
       "margin": null,
       "max_height": null,
       "max_width": null,
       "min_height": null,
       "min_width": null,
       "object_fit": null,
       "object_position": null,
       "order": null,
       "overflow": null,
       "overflow_x": null,
       "overflow_y": null,
       "padding": null,
       "right": null,
       "top": null,
       "visibility": null,
       "width": null
      }
     },
     "89af0964c9d041aaa5eee543e847f2d5": {
      "model_module": "@jupyter-widgets/base",
      "model_module_version": "1.2.0",
      "model_name": "LayoutModel",
      "state": {
       "_model_module": "@jupyter-widgets/base",
       "_model_module_version": "1.2.0",
       "_model_name": "LayoutModel",
       "_view_count": null,
       "_view_module": "@jupyter-widgets/base",
       "_view_module_version": "1.2.0",
       "_view_name": "LayoutView",
       "align_content": null,
       "align_items": null,
       "align_self": null,
       "border": null,
       "bottom": null,
       "display": null,
       "flex": null,
       "flex_flow": null,
       "grid_area": null,
       "grid_auto_columns": null,
       "grid_auto_flow": null,
       "grid_auto_rows": null,
       "grid_column": null,
       "grid_gap": null,
       "grid_row": null,
       "grid_template_areas": null,
       "grid_template_columns": null,
       "grid_template_rows": null,
       "height": null,
       "justify_content": null,
       "justify_items": null,
       "left": null,
       "margin": null,
       "max_height": null,
       "max_width": null,
       "min_height": null,
       "min_width": null,
       "object_fit": null,
       "object_position": null,
       "order": null,
       "overflow": null,
       "overflow_x": null,
       "overflow_y": null,
       "padding": null,
       "right": null,
       "top": null,
       "visibility": null,
       "width": null
      }
     },
     "90edec66fffa4df496fa360c8c52fac2": {
      "model_module": "@jupyter-widgets/base",
      "model_module_version": "1.2.0",
      "model_name": "LayoutModel",
      "state": {
       "_model_module": "@jupyter-widgets/base",
       "_model_module_version": "1.2.0",
       "_model_name": "LayoutModel",
       "_view_count": null,
       "_view_module": "@jupyter-widgets/base",
       "_view_module_version": "1.2.0",
       "_view_name": "LayoutView",
       "align_content": null,
       "align_items": null,
       "align_self": null,
       "border": null,
       "bottom": null,
       "display": null,
       "flex": null,
       "flex_flow": null,
       "grid_area": null,
       "grid_auto_columns": null,
       "grid_auto_flow": null,
       "grid_auto_rows": null,
       "grid_column": null,
       "grid_gap": null,
       "grid_row": null,
       "grid_template_areas": null,
       "grid_template_columns": null,
       "grid_template_rows": null,
       "height": null,
       "justify_content": null,
       "justify_items": null,
       "left": null,
       "margin": null,
       "max_height": null,
       "max_width": null,
       "min_height": null,
       "min_width": null,
       "object_fit": null,
       "object_position": null,
       "order": null,
       "overflow": null,
       "overflow_x": null,
       "overflow_y": null,
       "padding": null,
       "right": null,
       "top": null,
       "visibility": null,
       "width": null
      }
     },
     "ac08e62a0b80415ca5c9261b6aea24af": {
      "model_module": "@jupyter-widgets/base",
      "model_module_version": "1.2.0",
      "model_name": "LayoutModel",
      "state": {
       "_model_module": "@jupyter-widgets/base",
       "_model_module_version": "1.2.0",
       "_model_name": "LayoutModel",
       "_view_count": null,
       "_view_module": "@jupyter-widgets/base",
       "_view_module_version": "1.2.0",
       "_view_name": "LayoutView",
       "align_content": null,
       "align_items": null,
       "align_self": null,
       "border": null,
       "bottom": null,
       "display": null,
       "flex": null,
       "flex_flow": null,
       "grid_area": null,
       "grid_auto_columns": null,
       "grid_auto_flow": null,
       "grid_auto_rows": null,
       "grid_column": null,
       "grid_gap": null,
       "grid_row": null,
       "grid_template_areas": null,
       "grid_template_columns": null,
       "grid_template_rows": null,
       "height": null,
       "justify_content": null,
       "justify_items": null,
       "left": null,
       "margin": null,
       "max_height": null,
       "max_width": null,
       "min_height": null,
       "min_width": null,
       "object_fit": null,
       "object_position": null,
       "order": null,
       "overflow": null,
       "overflow_x": null,
       "overflow_y": null,
       "padding": null,
       "right": null,
       "top": null,
       "visibility": null,
       "width": "20px"
      }
     },
     "af3ade888954492da806706626f8a7e3": {
      "model_module": "@jupyter-widgets/base",
      "model_module_version": "1.2.0",
      "model_name": "LayoutModel",
      "state": {
       "_model_module": "@jupyter-widgets/base",
       "_model_module_version": "1.2.0",
       "_model_name": "LayoutModel",
       "_view_count": null,
       "_view_module": "@jupyter-widgets/base",
       "_view_module_version": "1.2.0",
       "_view_name": "LayoutView",
       "align_content": null,
       "align_items": null,
       "align_self": null,
       "border": null,
       "bottom": null,
       "display": null,
       "flex": null,
       "flex_flow": null,
       "grid_area": null,
       "grid_auto_columns": null,
       "grid_auto_flow": null,
       "grid_auto_rows": null,
       "grid_column": null,
       "grid_gap": null,
       "grid_row": null,
       "grid_template_areas": null,
       "grid_template_columns": null,
       "grid_template_rows": null,
       "height": null,
       "justify_content": null,
       "justify_items": null,
       "left": null,
       "margin": null,
       "max_height": null,
       "max_width": null,
       "min_height": null,
       "min_width": null,
       "object_fit": null,
       "object_position": null,
       "order": null,
       "overflow": null,
       "overflow_x": null,
       "overflow_y": null,
       "padding": null,
       "right": null,
       "top": null,
       "visibility": null,
       "width": null
      }
     },
     "b01c1cd3791045ae99a4dcacbf65a19f": {
      "model_module": "@jupyter-widgets/controls",
      "model_module_version": "1.5.0",
      "model_name": "HTMLModel",
      "state": {
       "_dom_classes": [],
       "_model_module": "@jupyter-widgets/controls",
       "_model_module_version": "1.5.0",
       "_model_name": "HTMLModel",
       "_view_count": null,
       "_view_module": "@jupyter-widgets/controls",
       "_view_module_version": "1.5.0",
       "_view_name": "HTMLView",
       "description": "",
       "description_tooltip": null,
       "layout": "IPY_MODEL_171049b8ffbd4770a2dd50f10789b5b2",
       "placeholder": "​",
       "style": "IPY_MODEL_debbe2bc635047d8b83514d68d2b85e8",
       "value": "Packets:   "
      }
     },
     "b50c3fbb1fa24ad4b80f21de7d9e8782": {
      "model_module": "@jupyter-widgets/controls",
      "model_module_version": "1.5.0",
      "model_name": "HTMLModel",
      "state": {
       "_dom_classes": [],
       "_model_module": "@jupyter-widgets/controls",
       "_model_module_version": "1.5.0",
       "_model_name": "HTMLModel",
       "_view_count": null,
       "_view_module": "@jupyter-widgets/controls",
       "_view_module_version": "1.5.0",
       "_view_name": "HTMLView",
       "description": "",
       "description_tooltip": null,
       "layout": "IPY_MODEL_8272121214984414867a9a1e0d9b28e7",
       "placeholder": "​",
       "style": "IPY_MODEL_32576edb88294357bf93d1f419349f13",
       "value": "Iterations:"
      }
     },
     "b6d547661d8c43c28dc990f8f551cc66": {
      "model_module": "@jupyter-widgets/base",
      "model_module_version": "1.2.0",
      "model_name": "LayoutModel",
      "state": {
       "_model_module": "@jupyter-widgets/base",
       "_model_module_version": "1.2.0",
       "_model_name": "LayoutModel",
       "_view_count": null,
       "_view_module": "@jupyter-widgets/base",
       "_view_module_version": "1.2.0",
       "_view_name": "LayoutView",
       "align_content": null,
       "align_items": null,
       "align_self": null,
       "border": null,
       "bottom": null,
       "display": null,
       "flex": null,
       "flex_flow": null,
       "grid_area": null,
       "grid_auto_columns": null,
       "grid_auto_flow": null,
       "grid_auto_rows": null,
       "grid_column": null,
       "grid_gap": null,
       "grid_row": null,
       "grid_template_areas": null,
       "grid_template_columns": null,
       "grid_template_rows": null,
       "height": null,
       "justify_content": null,
       "justify_items": null,
       "left": null,
       "margin": null,
       "max_height": null,
       "max_width": null,
       "min_height": null,
       "min_width": null,
       "object_fit": null,
       "object_position": null,
       "order": null,
       "overflow": null,
       "overflow_x": null,
       "overflow_y": null,
       "padding": null,
       "right": null,
       "top": null,
       "visibility": null,
       "width": null
      }
     },
     "bcaf557e493f43759f8cda7a92d1dc9a": {
      "model_module": "@jupyter-widgets/controls",
      "model_module_version": "1.5.0",
      "model_name": "HTMLModel",
      "state": {
       "_dom_classes": [],
       "_model_module": "@jupyter-widgets/controls",
       "_model_module_version": "1.5.0",
       "_model_name": "HTMLModel",
       "_view_count": null,
       "_view_module": "@jupyter-widgets/controls",
       "_view_module_version": "1.5.0",
       "_view_name": "HTMLView",
       "description": "",
       "description_tooltip": null,
       "layout": "IPY_MODEL_af3ade888954492da806706626f8a7e3",
       "placeholder": "​",
       "style": "IPY_MODEL_77044ddc0b9c4bca8966ac1e0f79ead0",
       "value": "20/? [00:51&lt;00:00,  2.79s/it]"
      }
     },
     "be83cc62b3e143eaad66e0feed2d9744": {
      "model_module": "@jupyter-widgets/controls",
      "model_module_version": "1.5.0",
      "model_name": "FloatProgressModel",
      "state": {
       "_dom_classes": [],
       "_model_module": "@jupyter-widgets/controls",
       "_model_module_version": "1.5.0",
       "_model_name": "FloatProgressModel",
       "_view_count": null,
       "_view_module": "@jupyter-widgets/controls",
       "_view_module_version": "1.5.0",
       "_view_name": "ProgressView",
       "bar_style": "info",
       "description": "",
       "description_tooltip": null,
       "layout": "IPY_MODEL_ac08e62a0b80415ca5c9261b6aea24af",
       "max": 1.0,
       "min": 0.0,
       "orientation": "horizontal",
       "style": "IPY_MODEL_3146e0055ec94b18a49d3a0c3df0090c",
       "value": 0.0
      }
     },
     "debbe2bc635047d8b83514d68d2b85e8": {
      "model_module": "@jupyter-widgets/controls",
      "model_module_version": "1.5.0",
      "model_name": "DescriptionStyleModel",
      "state": {
       "_model_module": "@jupyter-widgets/controls",
       "_model_module_version": "1.5.0",
       "_model_name": "DescriptionStyleModel",
       "_view_count": null,
       "_view_module": "@jupyter-widgets/base",
       "_view_module_version": "1.2.0",
       "_view_name": "StyleView",
       "description_width": ""
      }
     },
     "e93a123d47e447279f6407a0805cf417": {
      "model_module": "@jupyter-widgets/base",
      "model_module_version": "1.2.0",
      "model_name": "LayoutModel",
      "state": {
       "_model_module": "@jupyter-widgets/base",
       "_model_module_version": "1.2.0",
       "_model_name": "LayoutModel",
       "_view_count": null,
       "_view_module": "@jupyter-widgets/base",
       "_view_module_version": "1.2.0",
       "_view_name": "LayoutView",
       "align_content": null,
       "align_items": null,
       "align_self": null,
       "border": null,
       "bottom": null,
       "display": null,
       "flex": null,
       "flex_flow": null,
       "grid_area": null,
       "grid_auto_columns": null,
       "grid_auto_flow": null,
       "grid_auto_rows": null,
       "grid_column": null,
       "grid_gap": null,
       "grid_row": null,
       "grid_template_areas": null,
       "grid_template_columns": null,
       "grid_template_rows": null,
       "height": null,
       "justify_content": null,
       "justify_items": null,
       "left": null,
       "margin": null,
       "max_height": null,
       "max_width": null,
       "min_height": null,
       "min_width": null,
       "object_fit": null,
       "object_position": null,
       "order": null,
       "overflow": null,
       "overflow_x": null,
       "overflow_y": null,
       "padding": null,
       "right": null,
       "top": null,
       "visibility": null,
       "width": null
      }
     },
     "eb738f5de16943b4a10ff2b226573561": {
      "model_module": "@jupyter-widgets/controls",
      "model_module_version": "1.5.0",
      "model_name": "HBoxModel",
      "state": {
       "_dom_classes": [],
       "_model_module": "@jupyter-widgets/controls",
       "_model_module_version": "1.5.0",
       "_model_name": "HBoxModel",
       "_view_count": null,
       "_view_module": "@jupyter-widgets/controls",
       "_view_module_version": "1.5.0",
       "_view_name": "HBoxView",
       "box_style": "",
       "children": [
        "IPY_MODEL_b50c3fbb1fa24ad4b80f21de7d9e8782",
        "IPY_MODEL_6a3bbd924b3c461084282ff463aea03b",
        "IPY_MODEL_bcaf557e493f43759f8cda7a92d1dc9a"
       ],
       "layout": "IPY_MODEL_89af0964c9d041aaa5eee543e847f2d5"
      }
     }
    },
    "version_major": 2,
    "version_minor": 0
   }
  }
 },
 "nbformat": 4,
 "nbformat_minor": 5
}

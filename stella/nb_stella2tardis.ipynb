{
 "cells": [
  {
   "cell_type": "code",
   "execution_count": null,
   "id": "aded53a3",
   "metadata": {},
   "outputs": [],
   "source": [
    "import time\n",
    "print(time.ctime())\n",
    "%load_ext autoreload\n",
    "%autoreload 2\n",
    "%autosave 10\n"
   ]
  },
  {
   "cell_type": "markdown",
   "id": "52b1775a",
   "metadata": {},
   "source": [
    "#  Create tardis data file\n",
    "\n",
    "https://tardis-sn.github.io/tardis/io/configuration/components/models/index.html#id7"
   ]
  },
  {
   "cell_type": "markdown",
   "id": "593e9b69",
   "metadata": {},
   "source": [
    "```\n",
    "model:\n",
    "    structure:\n",
    "        type: file\n",
    "        filename: density.dat\n",
    "        filetype: simple_ascii\n",
    "        v_inner_boundary: 11000 km/s\n",
    "        v_outer_boundary: 20000 km/s\n",
    "   abundances:\n",
    "        type: file\n",
    "        filename: abund.dat\n",
    "        filetype: simple_ascii\n",
    "```        "
   ]
  },
  {
   "cell_type": "code",
   "execution_count": null,
   "id": "b5bc9124",
   "metadata": {},
   "outputs": [],
   "source": [
    "# for plottong\n",
    "# import matplotlib\n",
    "# matplotlib.use('TkAgg')\n",
    "%matplotlib inline\n",
    "# %matplotlib notebook\n",
    "from matplotlib import rcParams\n",
    "# from matplotlib.lines import lineStyles\n",
    "import matplotlib.pyplot as plt\n",
    "from matplotlib import gridspec, colors\n",
    "from matplotlib.patches import Rectangle\n",
    "# import matplotlib.lines as mlines\n",
    "\n",
    "if True:\n",
    "    # plt.style.use('../../lib/mpl/mtl2smv2.stl')\n",
    "    plt.style.use('./mtl2smv2.stl')\n",
    "    \n",
    "plt.rcParams['figure.facecolor'] = 'white'\n",
    "plt.rcParams['axes.facecolor'] = 'white'\n",
    "plt.rcParams['font.size'] = 14    \n",
    "\n",
    "import logging\n",
    "\n",
    "mpl_logger = logging.getLogger('matplotlib')\n",
    "mpl_logger.setLevel(logging.ERROR)\n"
   ]
  },
  {
   "cell_type": "code",
   "execution_count": null,
   "id": "72fae31b",
   "metadata": {},
   "outputs": [],
   "source": [
    "import os\n",
    "import sys\n",
    "import operator\n",
    "import itertools\n",
    "\n",
    "import numpy as np\n",
    "# import scipy\n",
    "# from scipy import stats\n",
    "# from scipy import interpolate\n",
    "# from scipy import optimize\n",
    "import pandas as pd\n",
    "# import seaborn as sns\n",
    "from astropy import constants as consts\n",
    "from astropy import units as u\n",
    "\n",
    "\n",
    "sys.path.append(os.path.expanduser('/home/bakl/Sn/Release/python/pystella'))\n",
    "import pystella as ps\n"
   ]
  },
  {
   "cell_type": "code",
   "execution_count": null,
   "id": "6b7506fc",
   "metadata": {},
   "outputs": [],
   "source": [
    "def fig_save(fig, fname, ext=\".pdf\"):\n",
    "    if not fname.endswith(ext):\n",
    "        fname += ext\n",
    "    fsave = os.path.expanduser(fname)\n",
    "    print(\"Save plot to %s \" % fsave)\n",
    "    fig.savefig(fsave, bbox_inches='tight')\n",
    "    \n",
    "figsave = fig_save"
   ]
  },
  {
   "cell_type": "markdown",
   "id": "52c56f08",
   "metadata": {},
   "source": [
    "### Read STELLA data\n",
    "\n",
    "Example: https://tardis-sn.github.io/tardis/io/configuration/components/models/converters/stella_to_tardis.html"
   ]
  },
  {
   "cell_type": "markdown",
   "id": "cdc74f32",
   "metadata": {},
   "source": [
    "### Parameters"
   ]
  },
  {
   "cell_type": "code",
   "execution_count": null,
   "id": "cb591e2a",
   "metadata": {},
   "outputs": [],
   "source": [
    "path_mdl = './'  #\n",
    "\n",
    "sn_mname = 'pyrefE5R50M26Ni2m2b5m3Z01'\n",
    "  \n",
    "print(f'sn_mname= {sn_mname}')\n",
    "\n",
    "fname_density_out = 'density.csv'\n",
    "fname_abund_out = 'abund.csv'\n",
    "print(f'{fname_density_out=}')\n",
    "print(f'{fname_abund_out=}')"
   ]
  },
  {
   "cell_type": "code",
   "execution_count": null,
   "id": "ce07cc9d",
   "metadata": {},
   "outputs": [],
   "source": [
    "models_info =  ps.ls.short(path_mdl)\n",
    "models_data = ps.ls.long(models_info, path=path_mdl)\n",
    "print(len(models_data))"
   ]
  },
  {
   "cell_type": "code",
   "execution_count": null,
   "id": "95c07973",
   "metadata": {},
   "outputs": [],
   "source": [
    "import h5py\n",
    "\n",
    "def printall(name, obj):\n",
    "    print(name, dict(obj.attrs))\n",
    "\n",
    "    \n",
    "fname = os.path.expanduser( os.path.join(path_mdl, sn_mname+'.h5') )\n",
    "\n",
    "print(f'{fname=}')\n",
    "    \n",
    "with h5py.File(fname,'r') as hf:\n",
    "    hf.visititems(printall)"
   ]
  },
  {
   "cell_type": "code",
   "execution_count": null,
   "id": "1376d7d6",
   "metadata": {},
   "outputs": [],
   "source": [
    "def h5_gr_print(gr, lvl=0):\n",
    "    #Checkout what keys are inside that group.\n",
    "    space = \"  \" * lvl\n",
    "    lvl += 1\n",
    "    for key in gr.keys():        \n",
    "        print(\"{}{}\".format(space, key))\n",
    "        item = gr[key]\n",
    "        if isinstance(item, h5py.Group):\n",
    "            h5_gr_print(item, lvl)\n",
    "        elif isinstance(item, h5py.Dataset):\n",
    "            print(\"{}{} {}\".format(space, key, item.shape)) \n",
    "#         else:\n",
    "#             print(\"{}{} {}\".format(space, key, type(item)))\n",
    "\n",
    "h5data = {}\n",
    "\n",
    "with h5py.File(fname, \"r\") as f:\n",
    "    h5_gr_print(f)"
   ]
  },
  {
   "cell_type": "code",
   "execution_count": null,
   "id": "6680bb41",
   "metadata": {},
   "outputs": [],
   "source": [
    "# fname = os.path.expanduser( os.path.join('~', sn_mname+'.h5') )\n",
    "h5 = ps.H5Stella(fname)\n",
    "print(fname)\n",
    "\n",
    "hyd = h5.Hyd\n",
    "hyd.Info()\n",
    "print(hyd.Ntime, hyd.Nzon, hyd.Nvars, hyd.Shape, hyd.Attrs)\n",
    "print(f'{hyd.R.shape=}    {hyd.T.shape=}')\n",
    "t_hyd = hyd.T\n",
    "print('Hyd columns: ',hyd.Columns, ' time: ', len(t_hyd))\n",
    "print(f'{t_hyd=}')"
   ]
  },
  {
   "cell_type": "code",
   "execution_count": null,
   "id": "f8150a98",
   "metadata": {},
   "outputs": [],
   "source": [
    "# nums = [0, 2, 5, 10, 20, 50]\n",
    "# columns = hyd.Attrs['columns'].split()\n",
    "# plt.figure(figsize=(12,12))\n",
    "# for i, var in enumerate(columns):\n",
    "#     for num in nums:\n",
    "#         plt.subplot(2,2,i+1)\n",
    "#         x = hyd.V[num, :, 0]\n",
    "#         y = hyd.V[num, :, i]\n",
    "#         plt.plot(x, y, 'o-', label='{} t={:.3f}'.format(str(var,'utf-8'), hyd.T[num]))\n",
    "#         plt.xscale('log')\n",
    "#         plt.yscale('log')\n",
    "#     plt.legend()"
   ]
  },
  {
   "cell_type": "code",
   "execution_count": null,
   "id": "0a358025",
   "metadata": {},
   "outputs": [],
   "source": [
    "\n",
    "t_cur = 10  #time[0]\n",
    "for i, t in enumerate(t_hyd):\n",
    "    t_idx = i\n",
    "    if t > t_cur:\n",
    "        break\n",
    "        \n",
    "# t_idx = 10\n",
    "t = t_hyd[t_idx]\n",
    "print(f'{t_idx=}   {t=}')\n"
   ]
  },
  {
   "cell_type": "code",
   "execution_count": null,
   "id": "a53b5f04",
   "metadata": {},
   "outputs": [],
   "source": [
    "Ry = hyd.R[t_idx]  # cm\n",
    "Vy = hyd.V[t_idx]  # 1000 km/s\n",
    "Rhoy = hyd.Rho[t_idx]  \n",
    "\n",
    "# Normalization\n",
    "Vy = 1000 * Vy # km/s\n"
   ]
  },
  {
   "cell_type": "code",
   "execution_count": null,
   "id": "3be6495f",
   "metadata": {
    "scrolled": false
   },
   "outputs": [],
   "source": [
    "# data = stella.read_stella_data('mesa.stella.dat')\n"
   ]
  },
  {
   "cell_type": "code",
   "execution_count": null,
   "id": "06663f78",
   "metadata": {},
   "outputs": [],
   "source": [
    "# extract outer radius boundaries\n",
    "# radii = data.loc[:,'outer_edge_r'].values * u.cm\n",
    "radii = Ry * u.cm\n",
    "\n",
    "# calculate t_explosion\n",
    "t_explosion = t * u.day #days\n",
    "\n",
    "# # calculate outer velocities of each zone assuming homologous expansion (v=r/t)\n",
    "# velocities = (radii/t_explosion).to(u.km/u.s)\n",
    "\n",
    "velocities = Vy *u.km/u.s\n",
    "\n",
    "# create a new column of our velocities (OPTIONAL)\n",
    "data = {'velocity':  velocities,\n",
    "        'density': Rhoy,\n",
    "        }\n",
    "\n",
    "df = pd.DataFrame(data)\n",
    "df"
   ]
  },
  {
   "cell_type": "code",
   "execution_count": null,
   "id": "6bbd5b98",
   "metadata": {},
   "outputs": [],
   "source": [
    "cols = {'velocity': '[cm/s]', 'density': '[g/cm^3]' }\n",
    "density_dat = df[cols.keys()].reset_index(drop=True)\n",
    "\n",
    "with open(fname_density_out, 'w') as f:\n",
    "    f.write(\"{:.4f}  \\n\".format(t_explosion))\n",
    "    f.write(\"# index  {}  \\n\".format(' '.join([k+' '+v  for k,v in cols.items()])))\n",
    "    density_dat.to_csv(f, sep = ' ', header=False, float_format='%.6e')\n"
   ]
  },
  {
   "cell_type": "code",
   "execution_count": null,
   "id": "9940e6dc",
   "metadata": {},
   "outputs": [],
   "source": [
    "!head $fname_density_out"
   ]
  },
  {
   "cell_type": "markdown",
   "id": "ed7db28b",
   "metadata": {},
   "source": [
    "### Abundances\n",
    "https://tardis-sn.github.io/tardis/io/configuration/components/models/abundancecust/abundancecust.html#csv-format\n",
    "\n",
    "In this file:\n",
    "\n",
    "    Header row contains element and isotopes symbol\n",
    "\n",
    "    the remaining entries in each row give the set of elemental and isotopic abundances.\n",
    "\n",
    "    the first column contains a running index\n",
    "\n",
    "The abundances are specified as mass fractions (i.e. the sum of columns in each row should be 1.0). The mass fractions specified will be adopted directly in the TARDIS calculations.\n"
   ]
  },
  {
   "cell_type": "code",
   "execution_count": null,
   "id": "55cb15ee",
   "metadata": {},
   "outputs": [],
   "source": [
    "# todo  ADD radiactive \n",
    "eve_Zn = (1, 2, 6, 7, 8, 10,11,12,13, 14,16, 18, 20, 26, 28)\n",
    "  \n",
    "eve_el_m = {'H': 1.008,   'He': 4.003,  'Li': 6.941, 'Be': 9.01218, \n",
    "            'B': 10.81,   'C': 12.011,  'N': 14.007, 'O': 15.999,\n",
    "            'F': 18.998,  'Ne': 20.180, 'Na': 22.990,'Mg': 24.305,\n",
    "            'Al': 26.982, 'Si': 28.086, 'P': 30.974, 'S': 32.066,\n",
    "            'Cl': 35.453, 'Ar': 39.948, 'K': 39.098, 'Ca': 40.078,\n",
    "            'Sc': 44.956, 'Ti': 47.867, 'V': 50.942, 'Cr': 51.996,\n",
    "            'Mn': 54.938, 'Fe': 55.845, 'Co': 58.933,'Ni': 58.693,\n",
    "            'Cu': 63.546, 'Zn': 65.38\n",
    "            }\n",
    "tardis_elements = list(eve_el_m.keys())\n",
    "eve_elements = (\"H\", \"He\", \"C\", \"N\", \"O\", \"Ne\", \"Na\", \"Mg\", \"Al\", \"Si\", \"S\", \"Ar\", \"Ca\", \"Fe\", \"Ni\")\n",
    "abun = h5.Yabun\n",
    "\n",
    "print(abun.shape)\n",
    "data_abun = {nm: np.zeros(abun.shape[0]) for i, nm in enumerate(tardis_elements)}\n",
    "for i, nm in enumerate(eve_elements):\n",
    "    data_abun[nm] = abun[:,i]*eve_el_m[nm]\n",
    "    \n",
    "df_abun = pd.DataFrame(data_abun)\n",
    "print(df_abun.shape)\n",
    "\n",
    "df_abun"
   ]
  },
  {
   "cell_type": "code",
   "execution_count": null,
   "id": "4dbb7541",
   "metadata": {},
   "outputs": [],
   "source": [
    "np.sum(abun[25,:])\n",
    "# df_abun.shape\n",
    "# np.sum(df_abun, axis=0)"
   ]
  },
  {
   "cell_type": "code",
   "execution_count": null,
   "id": "5eb73e51",
   "metadata": {},
   "outputs": [],
   "source": []
  },
  {
   "cell_type": "code",
   "execution_count": null,
   "id": "161e3144",
   "metadata": {},
   "outputs": [],
   "source": [
    "# import all elements and isotopes and export to TARDIS\n",
    "# data_elements = data.iloc[:,12:33].reset_index(drop=True)\n",
    "cols = {'velocity': '[km/s]', 'density': '[g/cm^3]' }\n",
    "# df_abun_out = df_abun[tardis_elements].reset_index(drop=True)\n",
    "\n",
    "with open(fname_abund_out, 'w') as f:\n",
    "#     f.write(\"{:.4f}  \\n\".format(t_explosion))\n",
    "    f.write(\"# index  {}  \\n\".format(' '.join(tardis_elements)))\n",
    "    df_abun.to_csv(f, sep = ' ', header=False, float_format='%.6e')"
   ]
  },
  {
   "cell_type": "code",
   "execution_count": null,
   "id": "f8345347",
   "metadata": {},
   "outputs": [],
   "source": [
    "# np.sum(list(map(float,'2.826203e-02 2.193714e-01 0.000000e+00 0.000000e+00 0.000000e+00 3.926716e-04 8.110256e-06 3.837902e-03 0.000000e+00 5.336549e-04 2.067570e-06 3.140512e-04 2.370652e-05 1.507033e-04 0.000000e+00 3.126642e-05 0.000000e+00 4.237240e-06 0.000000e+00 3.460499e-06 0.000000e+00 0.000000e+00 0.000000e+00 0.000000e+00 0.000000e+00 6.137989e-05 0.000000e+00 2.708673e-06 0.000000e+00 0.000000e+00'.split())))\n",
    "np.sum(list(map(float,'2.848813e-02 8.781436e-01 0.000000e+00 0.000000e+00 0.000000e+00 4.716378e-03 1.136004e-04 6.140260e-02 0.000000e+00 1.076915e-02 4.753344e-05 7.633015e-03 6.396494e-04 4.232653e-03 0.000000e+00 1.002589e-03 0.000000e+00 1.692693e-04 0.000000e+00 1.386899e-04 0.000000e+00 0.000000e+00 0.000000e+00 0.000000e+00 0.000000e+00 3.427760e-03 0.000000e+00 1.589801e-04 0.000000e+00 0.000000e+00'.split())))"
   ]
  },
  {
   "cell_type": "code",
   "execution_count": null,
   "id": "394740a1",
   "metadata": {
    "scrolled": true
   },
   "outputs": [],
   "source": [
    "!head $fname_abund_out\n"
   ]
  },
  {
   "cell_type": "code",
   "execution_count": null,
   "id": "c607a0ff",
   "metadata": {},
   "outputs": [],
   "source": [
    "\n"
   ]
  },
  {
   "cell_type": "code",
   "execution_count": null,
   "id": "ffb7f69b",
   "metadata": {},
   "outputs": [],
   "source": []
  }
 ],
 "metadata": {
  "kernelspec": {
   "display_name": "Python 3 (ipykernel)",
   "language": "python",
   "name": "python3"
  },
  "language_info": {
   "codemirror_mode": {
    "name": "ipython",
    "version": 3
   },
   "file_extension": ".py",
   "mimetype": "text/x-python",
   "name": "python",
   "nbconvert_exporter": "python",
   "pygments_lexer": "ipython3",
   "version": "3.8.13"
  }
 },
 "nbformat": 4,
 "nbformat_minor": 5
}

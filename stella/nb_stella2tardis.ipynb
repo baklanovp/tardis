{
 "cells": [
  {
   "cell_type": "code",
   "execution_count": null,
   "id": "aded53a3",
   "metadata": {},
   "outputs": [],
   "source": [
    "import time\n",
    "print(time.ctime())\n",
    "%load_ext autoreload\n",
    "%autoreload 2\n",
    "%autosave 10\n"
   ]
  },
  {
   "cell_type": "markdown",
   "id": "52b1775a",
   "metadata": {},
   "source": [
    "#  Create tardis data file\n",
    "\n",
    "https://tardis-sn.github.io/tardis/io/configuration/components/models/index.html#id7"
   ]
  },
  {
   "cell_type": "markdown",
   "id": "593e9b69",
   "metadata": {},
   "source": [
    "```\n",
    "model:\n",
    "    structure:\n",
    "        type: file\n",
    "        filename: density.dat\n",
    "        filetype: simple_ascii\n",
    "        v_inner_boundary: 11000 km/s\n",
    "        v_outer_boundary: 20000 km/s\n",
    "   abundances:\n",
    "        type: file\n",
    "        filename: abund.dat\n",
    "        filetype: simple_ascii\n",
    "```        "
   ]
  },
  {
   "cell_type": "code",
   "execution_count": null,
   "id": "b5bc9124",
   "metadata": {},
   "outputs": [],
   "source": [
    "# for plottong\n",
    "# import matplotlib\n",
    "# matplotlib.use('TkAgg')\n",
    "%matplotlib inline\n",
    "# %matplotlib notebook\n",
    "from matplotlib import rcParams\n",
    "# from matplotlib.lines import lineStyles\n",
    "import matplotlib.pyplot as plt\n",
    "from matplotlib import gridspec, colors\n",
    "from matplotlib.patches import Rectangle\n",
    "# import matplotlib.lines as mlines\n",
    "\n",
    "if True:\n",
    "    # plt.style.use('../../lib/mpl/mtl2smv2.stl')\n",
    "    plt.style.use('./mtl2smv2.stl')\n",
    "    \n",
    "plt.rcParams['figure.facecolor'] = 'white'\n",
    "plt.rcParams['axes.facecolor'] = 'white'\n",
    "plt.rcParams['font.size'] = 14    \n",
    "\n",
    "import logging\n",
    "\n",
    "mpl_logger = logging.getLogger('matplotlib')\n",
    "mpl_logger.setLevel(logging.ERROR)\n"
   ]
  },
  {
   "cell_type": "code",
   "execution_count": null,
   "id": "72fae31b",
   "metadata": {},
   "outputs": [],
   "source": [
    "import os\n",
    "import sys\n",
    "import operator\n",
    "import itertools\n",
    "\n",
    "import numpy as np\n",
    "# import scipy\n",
    "# from scipy import stats\n",
    "# from scipy import interpolate\n",
    "# from scipy import optimize\n",
    "import pandas as pd\n",
    "# import seaborn as sns\n",
    "from astropy import constants as consts\n",
    "from astropy import units as u\n",
    "\n",
    "\n",
    "sys.path.append(os.path.expanduser('/home/bakl/Sn/Release/python/pystella'))\n",
    "import pystella as ps\n"
   ]
  },
  {
   "cell_type": "code",
   "execution_count": null,
   "id": "6b7506fc",
   "metadata": {},
   "outputs": [],
   "source": [
    "def fig_save(fig, fname, ext=\".pdf\"):\n",
    "    if not fname.endswith(ext):\n",
    "        fname += ext\n",
    "    fsave = os.path.expanduser(fname)\n",
    "    print(\"Save plot to %s \" % fsave)\n",
    "    fig.savefig(fsave, bbox_inches='tight')\n",
    "    \n",
    "figsave = fig_save"
   ]
  },
  {
   "cell_type": "markdown",
   "id": "52c56f08",
   "metadata": {},
   "source": [
    "### Read STELLA data\n",
    "\n",
    "Example: https://tardis-sn.github.io/tardis/io/configuration/components/models/converters/stella_to_tardis.html"
   ]
  },
  {
   "cell_type": "markdown",
   "id": "cdc74f32",
   "metadata": {},
   "source": [
    "### Parameters"
   ]
  },
  {
   "cell_type": "code",
   "execution_count": null,
   "id": "cb591e2a",
   "metadata": {},
   "outputs": [],
   "source": [
    "path_mdl = './'  #\n",
    "\n",
    "sn_mname = 'pyrefE5R50M26Ni2m2b5m3Z01'\n",
    "  \n",
    "print(f'sn_mname= {sn_mname}')\n",
    "\n",
    "fname_density_out = 'density.csv'\n",
    "fname_abund_out = 'abund.csv'\n",
    "print(f'{fname_density_out=}')\n",
    "print(f'{fname_abund_out=}')"
   ]
  },
  {
   "cell_type": "code",
   "execution_count": null,
   "id": "ce07cc9d",
   "metadata": {},
   "outputs": [],
   "source": [
    "models_info =  ps.ls.short(path_mdl)\n",
    "models_data = ps.ls.long(models_info, path=path_mdl)\n",
    "print(len(models_data))"
   ]
  },
  {
   "cell_type": "code",
   "execution_count": null,
   "id": "95c07973",
   "metadata": {},
   "outputs": [],
   "source": [
    "import h5py\n",
    "\n",
    "def printall(name, obj):\n",
    "    print(name, dict(obj.attrs))\n",
    "\n",
    "    \n",
    "fname = os.path.expanduser( os.path.join(path_mdl, sn_mname+'.h5') )\n",
    "\n",
    "print(f'{fname=}')\n",
    "    \n",
    "with h5py.File(fname,'r') as hf:\n",
    "    hf.visititems(printall)"
   ]
  },
  {
   "cell_type": "code",
   "execution_count": null,
   "id": "1376d7d6",
   "metadata": {},
   "outputs": [],
   "source": [
    "def h5_gr_print(gr, lvl=0):\n",
    "    #Checkout what keys are inside that group.\n",
    "    space = \"  \" * lvl\n",
    "    lvl += 1\n",
    "    for key in gr.keys():        \n",
    "        print(\"{}{}\".format(space, key))\n",
    "        item = gr[key]\n",
    "        if isinstance(item, h5py.Group):\n",
    "            h5_gr_print(item, lvl)\n",
    "        elif isinstance(item, h5py.Dataset):\n",
    "            print(\"{}{} {}\".format(space, key, item.shape)) \n",
    "#         else:\n",
    "#             print(\"{}{} {}\".format(space, key, type(item)))\n",
    "\n",
    "h5data = {}\n",
    "\n",
    "with h5py.File(fname, \"r\") as f:\n",
    "    h5_gr_print(f)"
   ]
  },
  {
   "cell_type": "code",
   "execution_count": null,
   "id": "6680bb41",
   "metadata": {},
   "outputs": [],
   "source": [
    "# fname = os.path.expanduser( os.path.join('~', sn_mname+'.h5') )\n",
    "h5 = ps.H5Stella(fname)\n",
    "print(fname)\n",
    "\n",
    "hyd = h5.Hyd\n",
    "hyd.Info()\n",
    "print(hyd.Ntime, hyd.Nzon, hyd.Nvars, hyd.Shape, hyd.Attrs)\n",
    "print(f'{hyd.R.shape=}    {hyd.T.shape=}')\n",
    "t_hyd = hyd.T\n",
    "print('Hyd columns: ',hyd.Columns, ' time: ', len(t_hyd))\n",
    "print(f'{t_hyd=}')"
   ]
  },
  {
   "cell_type": "code",
   "execution_count": null,
   "id": "f8150a98",
   "metadata": {},
   "outputs": [],
   "source": [
    "# nums = [0, 2, 5, 10, 20, 50]\n",
    "# columns = hyd.Attrs['columns'].split()\n",
    "# plt.figure(figsize=(12,12))\n",
    "# for i, var in enumerate(columns):\n",
    "#     for num in nums:\n",
    "#         plt.subplot(2,2,i+1)\n",
    "#         x = hyd.V[num, :, 0]\n",
    "#         y = hyd.V[num, :, i]\n",
    "#         plt.plot(x, y, 'o-', label='{} t={:.3f}'.format(str(var,'utf-8'), hyd.T[num]))\n",
    "#         plt.xscale('log')\n",
    "#         plt.yscale('log')\n",
    "#     plt.legend()"
   ]
  },
  {
   "cell_type": "code",
   "execution_count": null,
   "id": "0a358025",
   "metadata": {},
   "outputs": [],
   "source": [
    "\n",
    "t_cur = 10  #time[0]\n",
    "for i, t in enumerate(t_hyd):\n",
    "    t_idx = i\n",
    "    if t > t_cur:\n",
    "        break\n",
    "        \n",
    "# t_idx = 10\n",
    "t = t_hyd[t_idx]\n",
    "print(f'{t_idx=}   {t=}')\n"
   ]
  },
  {
   "cell_type": "code",
   "execution_count": null,
   "id": "a53b5f04",
   "metadata": {},
   "outputs": [],
   "source": [
    "Ry = hyd.R[t_idx]  # cm\n",
    "Vy = hyd.V[t_idx]  # 1000 km/s\n",
    "Rhoy = hyd.Rho[t_idx]  \n",
    "\n",
    "# Normalization\n",
    "Vy = 1000 * Vy # km/s\n"
   ]
  },
  {
   "cell_type": "code",
   "execution_count": null,
   "id": "3be6495f",
   "metadata": {
    "scrolled": false
   },
   "outputs": [],
   "source": [
    "# data = stella.read_stella_data('mesa.stella.dat')\n"
   ]
  },
  {
   "cell_type": "code",
   "execution_count": null,
   "id": "06663f78",
   "metadata": {},
   "outputs": [],
   "source": [
    "# extract outer radius boundaries\n",
    "# radii = data.loc[:,'outer_edge_r'].values * u.cm\n",
    "radii = Ry * u.cm\n",
    "\n",
    "# calculate t_explosion\n",
    "t_explosion = t * u.day #days\n",
    "\n",
    "# # calculate outer velocities of each zone assuming homologous expansion (v=r/t)\n",
    "# velocities = (radii/t_explosion).to(u.km/u.s)\n",
    "\n",
    "velocities = Vy * 1000.*u.km/u.s\n",
    "\n",
    "# create a new column of our velocities (OPTIONAL)\n",
    "data = {'velocity':  velocities,\n",
    "        'density': Rhoy,\n",
    "        }\n",
    "\n",
    "df = pd.DataFrame(data)\n",
    "df"
   ]
  },
  {
   "cell_type": "code",
   "execution_count": null,
   "id": "6bbd5b98",
   "metadata": {},
   "outputs": [],
   "source": [
    "density_dat = df[['velocity', 'density']].reset_index(drop=True)\n",
    "density_dat.to_csv(fname_density_out, sep = ' ')\n"
   ]
  },
  {
   "cell_type": "code",
   "execution_count": null,
   "id": "55cb15ee",
   "metadata": {},
   "outputs": [],
   "source": [
    "eve_elements = (\"Ni56\", \"H\", \"He\", \"C\", \"N\", \"O\", \"Ne\", \"Na\", \"Mg\", \"Al\"\n",
    "                , \"Si\", \"S\", \"Ar\", \"Ca\", \"Fe\", \"Ni\")\n",
    "abun = h5.Yabun\n",
    "\n",
    "print(abun.shape)\n",
    "data_abun = {nm: abun[i] for i, nm in enumerate(eve_elements)}\n",
    "df_abun = pd.DataFrame(data_abun)\n",
    "df_abun"
   ]
  },
  {
   "cell_type": "code",
   "execution_count": null,
   "id": "5eb73e51",
   "metadata": {},
   "outputs": [],
   "source": []
  },
  {
   "cell_type": "code",
   "execution_count": null,
   "id": "161e3144",
   "metadata": {},
   "outputs": [],
   "source": [
    "# import all elements and isotopes and export to TARDIS\n",
    "# data_elements = data.iloc[:,12:33].reset_index(drop=True)\n",
    "df_abun.to_csv(fname_abund_out, sep = ' ')"
   ]
  },
  {
   "cell_type": "code",
   "execution_count": null,
   "id": "394740a1",
   "metadata": {},
   "outputs": [],
   "source": [
    "\n"
   ]
  },
  {
   "cell_type": "code",
   "execution_count": null,
   "id": "c607a0ff",
   "metadata": {},
   "outputs": [],
   "source": [
    "\n"
   ]
  }
 ],
 "metadata": {
  "kernelspec": {
   "display_name": "Python 3 (ipykernel)",
   "language": "python",
   "name": "python3"
  },
  "language_info": {
   "codemirror_mode": {
    "name": "ipython",
    "version": 3
   },
   "file_extension": ".py",
   "mimetype": "text/x-python",
   "name": "python",
   "nbconvert_exporter": "python",
   "pygments_lexer": "ipython3",
   "version": "3.8.13"
  }
 },
 "nbformat": 4,
 "nbformat_minor": 5
}
